{
 "cells": [
  {
   "cell_type": "markdown",
   "id": "f221fbc2",
   "metadata": {},
   "source": [
    "# What is the right price to pay for a used car?\n",
    "\n",
    "The biggest dilemma facing a customer in the market for a used car is \"what is a fair price for this car\". This question is more significant with a used car purchase than a new car as there is no standard MSRP associated with the make, model, and year as with a new car. \n",
    "\n",
    "In addition, used cars sold by private parties bring more uncertainly in pricing and quality into the mix making it a risky transaction. While it we will not address the legal risks, we can certainly take on the pricing problem. \n",
    "\n",
    "In this project we will use the historical prices of used cars in Europe to device a model that would let a used car buy estimate the price he would expect to pay based on the main (yet basic) features of used cars. \n",
    "\n",
    "The source of historical used car price data employed in this project was obtained from: https://www.kaggle.com/datasets/sanskrutipanda/car-pricing-prediction"
   ]
  },
  {
   "cell_type": "code",
   "execution_count": 1,
   "id": "0cbe1625",
   "metadata": {},
   "outputs": [],
   "source": [
    "import pandas as pd\n",
    "from sklearn.inspection import permutation_importance\n",
    "from sklearn.pipeline import Pipeline\n",
    "from sklearn.compose import make_column_transformer, make_column_selector, TransformedTargetRegressor\n",
    "from sklearn.preprocessing import OneHotEncoder, TargetEncoder, PolynomialFeatures, StandardScaler, LabelEncoder\n",
    "from sklearn.linear_model import LinearRegression, Lasso, Ridge\n",
    "from sklearn.model_selection import train_test_split, GridSearchCV\n",
    "from sklearn.metrics import mean_squared_error\n",
    "from sklearn.preprocessing import LabelEncoder\n",
    "from sklearn.feature_selection import SequentialFeatureSelector, RFE\n",
    "from sklearn.utils import shuffle\n",
    "\n",
    "import numpy as np\n",
    "import matplotlib.pyplot as plt\n",
    "import seaborn as sns\n",
    "import math\n",
    "\n",
    "from sklearn.ensemble import VotingRegressor, RandomForestRegressor, AdaBoostRegressor\n",
    "from sklearn.neighbors import KNeighborsRegressor\n",
    "from sklearn.tree import DecisionTreeRegressor\n",
    "from sklearn.svm import SVR\n",
    "\n",
    "from tensorflow.keras.applications.efficientnet_v2 import EfficientNetV2B0\n",
    "from tensorflow.keras.applications.densenet import DenseNet121\n",
    "from tensorflow.keras.layers import Dense, Flatten\n",
    "from tensorflow.keras.models import Sequential\n",
    "from tensorflow.keras.utils import to_categorical, save_img, load_img, img_to_array\n",
    "from tensorflow.keras.ops import expand_dims\n",
    "import tensorflow as tf\n",
    "from tensorflow.keras.datasets import cifar10\n",
    "from tensorflow.keras import Model, Input"
   ]
  },
  {
   "cell_type": "code",
   "execution_count": 2,
   "id": "67c59344",
   "metadata": {},
   "outputs": [],
   "source": [
    "cars = pd.read_csv('cars_sampled.csv')"
   ]
  },
  {
   "cell_type": "code",
   "execution_count": 3,
   "id": "6926be0d",
   "metadata": {},
   "outputs": [
    {
     "name": "stdout",
     "output_type": "stream",
     "text": [
      "<class 'pandas.core.frame.DataFrame'>\n",
      "RangeIndex: 50001 entries, 0 to 50000\n",
      "Data columns (total 19 columns):\n",
      " #   Column               Non-Null Count  Dtype \n",
      "---  ------               --------------  ----- \n",
      " 0   dateCrawled          50001 non-null  object\n",
      " 1   name                 50001 non-null  object\n",
      " 2   seller               50001 non-null  object\n",
      " 3   offerType            50001 non-null  object\n",
      " 4   price                50001 non-null  int64 \n",
      " 5   abtest               50001 non-null  object\n",
      " 6   vehicleType          44813 non-null  object\n",
      " 7   yearOfRegistration   50001 non-null  int64 \n",
      " 8   gearbox              47177 non-null  object\n",
      " 9   powerPS              50001 non-null  int64 \n",
      " 10  model                47243 non-null  object\n",
      " 11  kilometer            50001 non-null  int64 \n",
      " 12  monthOfRegistration  50001 non-null  int64 \n",
      " 13  fuelType             45498 non-null  object\n",
      " 14  brand                50001 non-null  object\n",
      " 15  notRepairedDamage    40285 non-null  object\n",
      " 16  dateCreated          50001 non-null  object\n",
      " 17  postalCode           50001 non-null  int64 \n",
      " 18  lastSeen             50001 non-null  object\n",
      "dtypes: int64(6), object(13)\n",
      "memory usage: 7.2+ MB\n"
     ]
    }
   ],
   "source": [
    "cars.info()"
   ]
  },
  {
   "cell_type": "markdown",
   "id": "d086b1c0",
   "metadata": {},
   "source": [
    "# Feature Engineering"
   ]
  },
  {
   "cell_type": "markdown",
   "id": "75d690ee",
   "metadata": {},
   "source": [
    "## Data Cleanup and Inspection"
   ]
  },
  {
   "cell_type": "markdown",
   "id": "1557aa41",
   "metadata": {},
   "source": [
    "### Drop null value data"
   ]
  },
  {
   "cell_type": "code",
   "execution_count": 4,
   "id": "c226b0b9",
   "metadata": {},
   "outputs": [],
   "source": [
    "cars = cars.dropna()"
   ]
  },
  {
   "cell_type": "code",
   "execution_count": 5,
   "id": "066364be",
   "metadata": {},
   "outputs": [
    {
     "name": "stdout",
     "output_type": "stream",
     "text": [
      "<class 'pandas.core.frame.DataFrame'>\n",
      "Int64Index: 35107 entries, 1 to 50000\n",
      "Data columns (total 19 columns):\n",
      " #   Column               Non-Null Count  Dtype \n",
      "---  ------               --------------  ----- \n",
      " 0   dateCrawled          35107 non-null  object\n",
      " 1   name                 35107 non-null  object\n",
      " 2   seller               35107 non-null  object\n",
      " 3   offerType            35107 non-null  object\n",
      " 4   price                35107 non-null  int64 \n",
      " 5   abtest               35107 non-null  object\n",
      " 6   vehicleType          35107 non-null  object\n",
      " 7   yearOfRegistration   35107 non-null  int64 \n",
      " 8   gearbox              35107 non-null  object\n",
      " 9   powerPS              35107 non-null  int64 \n",
      " 10  model                35107 non-null  object\n",
      " 11  kilometer            35107 non-null  int64 \n",
      " 12  monthOfRegistration  35107 non-null  int64 \n",
      " 13  fuelType             35107 non-null  object\n",
      " 14  brand                35107 non-null  object\n",
      " 15  notRepairedDamage    35107 non-null  object\n",
      " 16  dateCreated          35107 non-null  object\n",
      " 17  postalCode           35107 non-null  int64 \n",
      " 18  lastSeen             35107 non-null  object\n",
      "dtypes: int64(6), object(13)\n",
      "memory usage: 5.4+ MB\n"
     ]
    }
   ],
   "source": [
    "cars.info()"
   ]
  },
  {
   "cell_type": "markdown",
   "id": "bd400607",
   "metadata": {},
   "source": [
    "### Inspect Data Range and Values for feature selection"
   ]
  },
  {
   "cell_type": "code",
   "execution_count": 6,
   "id": "b74882e3",
   "metadata": {},
   "outputs": [
    {
     "data": {
      "text/plain": [
       "private       35106\n",
       "commercial        1\n",
       "Name: seller, dtype: int64"
      ]
     },
     "execution_count": 6,
     "metadata": {},
     "output_type": "execute_result"
    }
   ],
   "source": [
    "cars['seller'].value_counts()"
   ]
  },
  {
   "cell_type": "code",
   "execution_count": 7,
   "id": "73f90ec0",
   "metadata": {},
   "outputs": [
    {
     "data": {
      "text/plain": [
       "offer      35106\n",
       "request        1\n",
       "Name: offerType, dtype: int64"
      ]
     },
     "execution_count": 7,
     "metadata": {},
     "output_type": "execute_result"
    }
   ],
   "source": [
    "cars['offerType'].value_counts()"
   ]
  },
  {
   "cell_type": "code",
   "execution_count": 8,
   "id": "006cae32",
   "metadata": {},
   "outputs": [
    {
     "data": {
      "text/plain": [
       "test       18161\n",
       "control    16946\n",
       "Name: abtest, dtype: int64"
      ]
     },
     "execution_count": 8,
     "metadata": {},
     "output_type": "execute_result"
    }
   ],
   "source": [
    "cars['abtest'].value_counts()"
   ]
  },
  {
   "cell_type": "code",
   "execution_count": 9,
   "id": "bc7c63da",
   "metadata": {},
   "outputs": [
    {
     "data": {
      "text/plain": [
       "limousine        10378\n",
       "small car         7994\n",
       "station wagon     7137\n",
       "bus               3315\n",
       "cabrio            2443\n",
       "coupe             1981\n",
       "suv               1628\n",
       "others             231\n",
       "Name: vehicleType, dtype: int64"
      ]
     },
     "execution_count": 9,
     "metadata": {},
     "output_type": "execute_result"
    }
   ],
   "source": [
    "cars['vehicleType'].value_counts()"
   ]
  },
  {
   "cell_type": "code",
   "execution_count": 10,
   "id": "48861cac",
   "metadata": {},
   "outputs": [
    {
     "data": {
      "text/plain": [
       "2018"
      ]
     },
     "execution_count": 10,
     "metadata": {},
     "output_type": "execute_result"
    }
   ],
   "source": [
    "cars['yearOfRegistration'].max()"
   ]
  },
  {
   "cell_type": "code",
   "execution_count": 11,
   "id": "3634e66c",
   "metadata": {},
   "outputs": [
    {
     "data": {
      "text/plain": [
       "1929"
      ]
     },
     "execution_count": 11,
     "metadata": {},
     "output_type": "execute_result"
    }
   ],
   "source": [
    "cars['yearOfRegistration'].min()"
   ]
  },
  {
   "cell_type": "code",
   "execution_count": 12,
   "id": "dc7d671d",
   "metadata": {},
   "outputs": [
    {
     "data": {
      "text/plain": [
       "manual       26895\n",
       "automatic     8212\n",
       "Name: gearbox, dtype: int64"
      ]
     },
     "execution_count": 12,
     "metadata": {},
     "output_type": "execute_result"
    }
   ],
   "source": [
    "cars['gearbox'].value_counts()"
   ]
  },
  {
   "cell_type": "code",
   "execution_count": 13,
   "id": "8d228879",
   "metadata": {},
   "outputs": [
    {
     "data": {
      "text/plain": [
       "75     2276\n",
       "150    1575\n",
       "60     1466\n",
       "140    1466\n",
       "0      1328\n",
       "       ... \n",
       "383       1\n",
       "212       1\n",
       "390       1\n",
       "9         1\n",
       "386       1\n",
       "Name: powerPS, Length: 392, dtype: int64"
      ]
     },
     "execution_count": 13,
     "metadata": {},
     "output_type": "execute_result"
    }
   ],
   "source": [
    "cars['powerPS'].value_counts()"
   ]
  },
  {
   "cell_type": "code",
   "execution_count": 14,
   "id": "e6b88524",
   "metadata": {},
   "outputs": [
    {
     "data": {
      "text/plain": [
       "golf          2758\n",
       "others        2629\n",
       "3er           2129\n",
       "polo          1191\n",
       "corsa         1117\n",
       "              ... \n",
       "move             1\n",
       "serie_3          1\n",
       "serie_2          1\n",
       "b_max            1\n",
       "rangerover       1\n",
       "Name: model, Length: 245, dtype: int64"
      ]
     },
     "execution_count": 14,
     "metadata": {},
     "output_type": "execute_result"
    }
   ],
   "source": [
    "cars['model'].value_counts()"
   ]
  },
  {
   "cell_type": "code",
   "execution_count": 15,
   "id": "d8d423cb",
   "metadata": {},
   "outputs": [
    {
     "data": {
      "text/plain": [
       "petrol     22888\n",
       "diesel     11547\n",
       "lpg          557\n",
       "cng           67\n",
       "hybrid        31\n",
       "electro       10\n",
       "other          7\n",
       "Name: fuelType, dtype: int64"
      ]
     },
     "execution_count": 15,
     "metadata": {},
     "output_type": "execute_result"
    }
   ],
   "source": [
    "cars['fuelType'].value_counts()"
   ]
  },
  {
   "cell_type": "code",
   "execution_count": 16,
   "id": "ba916377",
   "metadata": {},
   "outputs": [
    {
     "data": {
      "text/plain": [
       "volkswagen       7220\n",
       "bmw              4112\n",
       "mercedes_benz    3646\n",
       "opel             3514\n",
       "audi             3377\n",
       "ford             2325\n",
       "renault          1626\n",
       "peugeot          1097\n",
       "fiat              820\n",
       "seat              694\n",
       "skoda             596\n",
       "mazda             541\n",
       "nissan            502\n",
       "citroen           494\n",
       "toyota            479\n",
       "smart             464\n",
       "volvo             376\n",
       "mini              370\n",
       "hyundai           361\n",
       "mitsubishi        281\n",
       "porsche           266\n",
       "honda             243\n",
       "kia               238\n",
       "suzuki            220\n",
       "alfa_romeo        205\n",
       "chevrolet         176\n",
       "chrysler          149\n",
       "dacia             106\n",
       "subaru             93\n",
       "jeep               79\n",
       "land_rover         70\n",
       "jaguar             64\n",
       "saab               59\n",
       "daihatsu           58\n",
       "daewoo             51\n",
       "lancia             44\n",
       "rover              37\n",
       "trabant            33\n",
       "lada               21\n",
       "Name: brand, dtype: int64"
      ]
     },
     "execution_count": 16,
     "metadata": {},
     "output_type": "execute_result"
    }
   ],
   "source": [
    "cars['brand'].value_counts()"
   ]
  },
  {
   "cell_type": "code",
   "execution_count": 17,
   "id": "1ca4d401",
   "metadata": {},
   "outputs": [
    {
     "data": {
      "text/plain": [
       "no     31324\n",
       "yes     3783\n",
       "Name: notRepairedDamage, dtype: int64"
      ]
     },
     "execution_count": 17,
     "metadata": {},
     "output_type": "execute_result"
    }
   ],
   "source": [
    "cars['notRepairedDamage'].value_counts()"
   ]
  },
  {
   "cell_type": "code",
   "execution_count": 18,
   "id": "95bc40ed",
   "metadata": {},
   "outputs": [
    {
     "data": {
      "text/plain": [
       "12345678"
      ]
     },
     "execution_count": 18,
     "metadata": {},
     "output_type": "execute_result"
    }
   ],
   "source": [
    "cars['price'].max()"
   ]
  },
  {
   "cell_type": "code",
   "execution_count": 19,
   "id": "dad6bb8a",
   "metadata": {},
   "outputs": [
    {
     "data": {
      "text/plain": [
       "0"
      ]
     },
     "execution_count": 19,
     "metadata": {},
     "output_type": "execute_result"
    }
   ],
   "source": [
    "cars['price'].min()"
   ]
  },
  {
   "cell_type": "markdown",
   "id": "b88259c0",
   "metadata": {},
   "source": [
    "## Removal of outliers\n",
    "\n",
    "This single feature engineering step <u>**increased the model score by up to 0.5**</u> and significantly changed the importances of features!"
   ]
  },
  {
   "cell_type": "code",
   "execution_count": 20,
   "id": "790ca0f5",
   "metadata": {},
   "outputs": [
    {
     "name": "stdout",
     "output_type": "stream",
     "text": [
      "Price: Mean - 7410.113111345316, Mode - 0    1500\n",
      "Name: price, dtype: int64, Median - 3800.0\n"
     ]
    }
   ],
   "source": [
    "print(f'Price: Mean - {cars[\"price\"].mean()}, Mode - {cars[\"price\"].mode()}, Median - {cars[\"price\"].median()}')"
   ]
  },
  {
   "cell_type": "code",
   "execution_count": 21,
   "id": "46486df5",
   "metadata": {},
   "outputs": [
    {
     "data": {
      "text/plain": [
       "(0.0, 100000.0)"
      ]
     },
     "execution_count": 21,
     "metadata": {},
     "output_type": "execute_result"
    },
    {
     "data": {
      "image/png": "[encoded data removed]",
      "text/plain": [
       "<Figure size 640x480 with 1 Axes>"
      ]
     },
     "metadata": {},
     "output_type": "display_data"
    }
   ],
   "source": [
    "plt.scatter(cars['price'].value_counts().keys(), cars['price'].value_counts().values)\n",
    "plt.xlim(0, 100_000)"
   ]
  },
  {
   "cell_type": "code",
   "execution_count": 22,
   "id": "4ac7b16c",
   "metadata": {},
   "outputs": [
    {
     "data": {
      "text/plain": [
       "(0.0, 1000.0)"
      ]
     },
     "execution_count": 22,
     "metadata": {},
     "output_type": "execute_result"
    },
    {
     "data": {
      "image/png": "[encoded data removed]",
      "text/plain": [
       "<Figure size 640x480 with 1 Axes>"
      ]
     },
     "metadata": {},
     "output_type": "display_data"
    }
   ],
   "source": [
    "plt.scatter(cars['price'].value_counts().keys(), cars['price'].value_counts().values)\n",
    "plt.xlim(0, 1000)"
   ]
  },
  {
   "cell_type": "code",
   "execution_count": 23,
   "id": "0ced21f8",
   "metadata": {},
   "outputs": [
    {
     "name": "stdout",
     "output_type": "stream",
     "text": [
      "<class 'pandas.core.frame.DataFrame'>\n",
      "Int64Index: 33427 entries, 1 to 50000\n",
      "Data columns (total 19 columns):\n",
      " #   Column               Non-Null Count  Dtype \n",
      "---  ------               --------------  ----- \n",
      " 0   dateCrawled          33427 non-null  object\n",
      " 1   name                 33427 non-null  object\n",
      " 2   seller               33427 non-null  object\n",
      " 3   offerType            33427 non-null  object\n",
      " 4   price                33427 non-null  int64 \n",
      " 5   abtest               33427 non-null  object\n",
      " 6   vehicleType          33427 non-null  object\n",
      " 7   yearOfRegistration   33427 non-null  int64 \n",
      " 8   gearbox              33427 non-null  object\n",
      " 9   powerPS              33427 non-null  int64 \n",
      " 10  model                33427 non-null  object\n",
      " 11  kilometer            33427 non-null  int64 \n",
      " 12  monthOfRegistration  33427 non-null  int64 \n",
      " 13  fuelType             33427 non-null  object\n",
      " 14  brand                33427 non-null  object\n",
      " 15  notRepairedDamage    33427 non-null  object\n",
      " 16  dateCreated          33427 non-null  object\n",
      " 17  postalCode           33427 non-null  int64 \n",
      " 18  lastSeen             33427 non-null  object\n",
      "dtypes: int64(6), object(13)\n",
      "memory usage: 5.1+ MB\n"
     ]
    }
   ],
   "source": [
    "# Based on the scatter plots above remove outliers \n",
    "\n",
    "cars = cars[(cars['price'] > 400) & (cars['price'] < 50000)]\n",
    "\n",
    "cars.info()"
   ]
  },
  {
   "cell_type": "markdown",
   "id": "5c2a1dd4",
   "metadata": {},
   "source": [
    "## Features we will not use\n",
    "\n",
    "To mitigate the 'Curse of Dimensionality' we will do away with feature that we do not expect to contribute to our model. We will drop the following feature for the reasons cited.\n",
    "\n",
    "1. **Seller**: All but one car are sold by private sellers and hence this feature is insignificant to our model\n",
    "2. **OfferType**: This again has all but one vehicle in the 'offered' category and hence can be discarded\n",
    "3. **abtest**: This feature has two classes with the number of cars almost evenly split between the two and hence can be dropped\n",
    "4. **notRepairedDamage**: This two-class feature has only about 10% in one of the classes and hence ignored"
   ]
  },
  {
   "cell_type": "code",
   "execution_count": 24,
   "id": "ed7114fe",
   "metadata": {},
   "outputs": [
    {
     "data": {
      "text/html": [
       "<div>\n",
       "<style scoped>\n",
       "    .dataframe tbody tr th:only-of-type {\n",
       "        vertical-align: middle;\n",
       "    }\n",
       "\n",
       "    .dataframe tbody tr th {\n",
       "        vertical-align: top;\n",
       "    }\n",
       "\n",
       "    .dataframe thead th {\n",
       "        text-align: right;\n",
       "    }\n",
       "</style>\n",
       "<table border=\"1\" class=\"dataframe\">\n",
       "  <thead>\n",
       "    <tr style=\"text-align: right;\">\n",
       "      <th></th>\n",
       "      <th>vehicleType</th>\n",
       "      <th>yearOfRegistration</th>\n",
       "      <th>gearbox</th>\n",
       "      <th>powerPS</th>\n",
       "      <th>kilometer</th>\n",
       "      <th>model</th>\n",
       "      <th>brand</th>\n",
       "      <th>fuelType</th>\n",
       "      <th>postalCode</th>\n",
       "    </tr>\n",
       "  </thead>\n",
       "  <tbody>\n",
       "    <tr>\n",
       "      <th>1</th>\n",
       "      <td>suv</td>\n",
       "      <td>2005</td>\n",
       "      <td>manual</td>\n",
       "      <td>163</td>\n",
       "      <td>150000</td>\n",
       "      <td>xc_reihe</td>\n",
       "      <td>volvo</td>\n",
       "      <td>diesel</td>\n",
       "      <td>88045</td>\n",
       "    </tr>\n",
       "    <tr>\n",
       "      <th>3</th>\n",
       "      <td>small car</td>\n",
       "      <td>2006</td>\n",
       "      <td>manual</td>\n",
       "      <td>86</td>\n",
       "      <td>60000</td>\n",
       "      <td>ibiza</td>\n",
       "      <td>seat</td>\n",
       "      <td>petrol</td>\n",
       "      <td>34537</td>\n",
       "    </tr>\n",
       "    <tr>\n",
       "      <th>4</th>\n",
       "      <td>suv</td>\n",
       "      <td>2008</td>\n",
       "      <td>automatic</td>\n",
       "      <td>185</td>\n",
       "      <td>150000</td>\n",
       "      <td>xc_reihe</td>\n",
       "      <td>volvo</td>\n",
       "      <td>diesel</td>\n",
       "      <td>55270</td>\n",
       "    </tr>\n",
       "    <tr>\n",
       "      <th>5</th>\n",
       "      <td>limousine</td>\n",
       "      <td>1995</td>\n",
       "      <td>manual</td>\n",
       "      <td>90</td>\n",
       "      <td>150000</td>\n",
       "      <td>passat</td>\n",
       "      <td>volkswagen</td>\n",
       "      <td>petrol</td>\n",
       "      <td>26826</td>\n",
       "    </tr>\n",
       "    <tr>\n",
       "      <th>7</th>\n",
       "      <td>coupe</td>\n",
       "      <td>1997</td>\n",
       "      <td>manual</td>\n",
       "      <td>136</td>\n",
       "      <td>150000</td>\n",
       "      <td>clk</td>\n",
       "      <td>mercedes_benz</td>\n",
       "      <td>petrol</td>\n",
       "      <td>13353</td>\n",
       "    </tr>\n",
       "  </tbody>\n",
       "</table>\n",
       "</div>"
      ],
      "text/plain": [
       "  vehicleType  yearOfRegistration    gearbox  powerPS  kilometer     model  \\\n",
       "1         suv                2005     manual      163     150000  xc_reihe   \n",
       "3   small car                2006     manual       86      60000     ibiza   \n",
       "4         suv                2008  automatic      185     150000  xc_reihe   \n",
       "5   limousine                1995     manual       90     150000    passat   \n",
       "7       coupe                1997     manual      136     150000       clk   \n",
       "\n",
       "           brand fuelType  postalCode  \n",
       "1          volvo   diesel       88045  \n",
       "3           seat   petrol       34537  \n",
       "4          volvo   diesel       55270  \n",
       "5     volkswagen   petrol       26826  \n",
       "7  mercedes_benz   petrol       13353  "
      ]
     },
     "execution_count": 24,
     "metadata": {},
     "output_type": "execute_result"
    }
   ],
   "source": [
    "X = cars[['vehicleType', 'yearOfRegistration', 'gearbox', 'powerPS', 'kilometer', 'model', 'brand', \n",
    "              'fuelType', 'postalCode']]\n",
    "\n",
    "X.head()"
   ]
  },
  {
   "cell_type": "markdown",
   "id": "288fd4f7",
   "metadata": {},
   "source": [
    "# Preprocessing"
   ]
  },
  {
   "cell_type": "markdown",
   "id": "e60d6ef5",
   "metadata": {},
   "source": [
    "For non-numeric features we will pick **LabelEncoder** and **OneHotEncoder** to convert them to numeric.\n",
    "\n",
    "1. **LabelEncoder**: We will use this encoder for features vehicleType, model, brand and fuelType in order to keep the dimensions from exploding as it would with OneHotEncoder as these are multi valued classes.\n",
    "2. **OneHotEncoder**: We will use OneHotEncoder just for the gearbox feature as it is binary and we will use this by setting 'drop if binary' to true."
   ]
  },
  {
   "cell_type": "code",
   "execution_count": 25,
   "id": "6ad92638",
   "metadata": {},
   "outputs": [
    {
     "data": {
      "text/html": [
       "<div>\n",
       "<style scoped>\n",
       "    .dataframe tbody tr th:only-of-type {\n",
       "        vertical-align: middle;\n",
       "    }\n",
       "\n",
       "    .dataframe tbody tr th {\n",
       "        vertical-align: top;\n",
       "    }\n",
       "\n",
       "    .dataframe thead th {\n",
       "        text-align: right;\n",
       "    }\n",
       "</style>\n",
       "<table border=\"1\" class=\"dataframe\">\n",
       "  <thead>\n",
       "    <tr style=\"text-align: right;\">\n",
       "      <th></th>\n",
       "      <th>vehicleType</th>\n",
       "      <th>yearOfRegistration</th>\n",
       "      <th>gearbox</th>\n",
       "      <th>powerPS</th>\n",
       "      <th>kilometer</th>\n",
       "      <th>model</th>\n",
       "      <th>brand</th>\n",
       "      <th>fuelType</th>\n",
       "      <th>postalCode</th>\n",
       "    </tr>\n",
       "  </thead>\n",
       "  <tbody>\n",
       "    <tr>\n",
       "      <th>1</th>\n",
       "      <td>7</td>\n",
       "      <td>2005</td>\n",
       "      <td>manual</td>\n",
       "      <td>163</td>\n",
       "      <td>150000</td>\n",
       "      <td>238</td>\n",
       "      <td>38</td>\n",
       "      <td>1</td>\n",
       "      <td>88045</td>\n",
       "    </tr>\n",
       "    <tr>\n",
       "      <th>3</th>\n",
       "      <td>5</td>\n",
       "      <td>2006</td>\n",
       "      <td>manual</td>\n",
       "      <td>86</td>\n",
       "      <td>60000</td>\n",
       "      <td>118</td>\n",
       "      <td>30</td>\n",
       "      <td>6</td>\n",
       "      <td>34537</td>\n",
       "    </tr>\n",
       "    <tr>\n",
       "      <th>4</th>\n",
       "      <td>7</td>\n",
       "      <td>2008</td>\n",
       "      <td>automatic</td>\n",
       "      <td>185</td>\n",
       "      <td>150000</td>\n",
       "      <td>238</td>\n",
       "      <td>38</td>\n",
       "      <td>1</td>\n",
       "      <td>55270</td>\n",
       "    </tr>\n",
       "    <tr>\n",
       "      <th>5</th>\n",
       "      <td>3</td>\n",
       "      <td>1995</td>\n",
       "      <td>manual</td>\n",
       "      <td>90</td>\n",
       "      <td>150000</td>\n",
       "      <td>166</td>\n",
       "      <td>37</td>\n",
       "      <td>6</td>\n",
       "      <td>26826</td>\n",
       "    </tr>\n",
       "    <tr>\n",
       "      <th>7</th>\n",
       "      <td>2</td>\n",
       "      <td>1997</td>\n",
       "      <td>manual</td>\n",
       "      <td>136</td>\n",
       "      <td>150000</td>\n",
       "      <td>75</td>\n",
       "      <td>20</td>\n",
       "      <td>6</td>\n",
       "      <td>13353</td>\n",
       "    </tr>\n",
       "  </tbody>\n",
       "</table>\n",
       "</div>"
      ],
      "text/plain": [
       "   vehicleType  yearOfRegistration    gearbox  powerPS  kilometer  model  \\\n",
       "1            7                2005     manual      163     150000    238   \n",
       "3            5                2006     manual       86      60000    118   \n",
       "4            7                2008  automatic      185     150000    238   \n",
       "5            3                1995     manual       90     150000    166   \n",
       "7            2                1997     manual      136     150000     75   \n",
       "\n",
       "   brand  fuelType  postalCode  \n",
       "1     38         1       88045  \n",
       "3     30         6       34537  \n",
       "4     38         1       55270  \n",
       "5     37         6       26826  \n",
       "7     20         6       13353  "
      ]
     },
     "execution_count": 25,
     "metadata": {},
     "output_type": "execute_result"
    }
   ],
   "source": [
    "pd.options.mode.chained_assignment = None  # suppress warnings as assignment without copy is intended\n",
    "\n",
    "X['vehicleType'] = LabelEncoder().fit_transform(cars['vehicleType'])\n",
    "X['model'] = LabelEncoder().fit_transform(cars['model'])\n",
    "X['brand'] = LabelEncoder().fit_transform(cars['brand'])\n",
    "X['fuelType'] = LabelEncoder().fit_transform(cars['fuelType'])\n",
    "\n",
    "X.head()"
   ]
  },
  {
   "cell_type": "code",
   "execution_count": 26,
   "id": "0e5ef756",
   "metadata": {},
   "outputs": [],
   "source": [
    "y = cars['price']"
   ]
  },
  {
   "cell_type": "code",
   "execution_count": 27,
   "id": "db36878a",
   "metadata": {},
   "outputs": [
    {
     "data": {
      "text/plain": [
       "36399      1\n",
       "27690      1\n",
       "19911      1\n",
       "10899      1\n",
       "1780       1\n",
       "        ... \n",
       "1000     364\n",
       "1200     377\n",
       "2500     393\n",
       "500      424\n",
       "1500     469\n",
       "Name: price, Length: 1939, dtype: int64"
      ]
     },
     "execution_count": 27,
     "metadata": {},
     "output_type": "execute_result"
    }
   ],
   "source": [
    "y.value_counts().sort_values()"
   ]
  },
  {
   "cell_type": "markdown",
   "id": "85867ac7",
   "metadata": {},
   "source": [
    "# Split Data into Train and Test \n",
    "\n",
    "We will use an **80-200 train-test split** to train our model and then test the model for it's efficiency. Further we will randomize it as well to disperse any unintended order of data in the source. "
   ]
  },
  {
   "cell_type": "code",
   "execution_count": 28,
   "id": "adc5a09d",
   "metadata": {},
   "outputs": [],
   "source": [
    "X_train, X_test, y_train, y_test = train_test_split(X, y, test_size=0.2, random_state=42)"
   ]
  },
  {
   "cell_type": "code",
   "execution_count": 29,
   "id": "42504b39",
   "metadata": {},
   "outputs": [
    {
     "name": "stdout",
     "output_type": "stream",
     "text": [
      "<class 'pandas.core.frame.DataFrame'>\n",
      "Int64Index: 26741 entries, 29622 to 23647\n",
      "Data columns (total 9 columns):\n",
      " #   Column              Non-Null Count  Dtype \n",
      "---  ------              --------------  ----- \n",
      " 0   vehicleType         26741 non-null  int64 \n",
      " 1   yearOfRegistration  26741 non-null  int64 \n",
      " 2   gearbox             26741 non-null  object\n",
      " 3   powerPS             26741 non-null  int64 \n",
      " 4   kilometer           26741 non-null  int64 \n",
      " 5   model               26741 non-null  int64 \n",
      " 6   brand               26741 non-null  int64 \n",
      " 7   fuelType            26741 non-null  int64 \n",
      " 8   postalCode          26741 non-null  int64 \n",
      "dtypes: int64(8), object(1)\n",
      "memory usage: 2.0+ MB\n"
     ]
    }
   ],
   "source": [
    "X_train.info()"
   ]
  },
  {
   "cell_type": "markdown",
   "id": "c4e9a8a2",
   "metadata": {},
   "source": [
    "# Modeling\n",
    "\n",
    "We will now employ different models for supervised learning and measure their efficacy before picking one of them."
   ]
  },
  {
   "cell_type": "code",
   "execution_count": 30,
   "id": "76c27f2a",
   "metadata": {},
   "outputs": [],
   "source": [
    "# ['vehicleType', 'model', 'brand', 'fuelType']\n",
    "col_transformer = make_column_transformer((OneHotEncoder(drop = 'if_binary'), ['gearbox']), \n",
    "                        remainder='passthrough')"
   ]
  },
  {
   "cell_type": "code",
   "execution_count": 31,
   "id": "a1d33f0d",
   "metadata": {},
   "outputs": [],
   "source": [
    "# a function that takes the best estimator and computes feature importance and displays them\n",
    "\n",
    "def compute_importance (best_est, X_test, y_test, repeats, num_cols=5):\n",
    "    imp = permutation_importance(best_est, X_test, y_test, n_repeats=repeats, random_state=0)\n",
    "    \n",
    "    # Print feature importances\n",
    "    print('Feature Importances')\n",
    "    print('-------------------')\n",
    "    # print the importance means\n",
    "    for i in imp.importances_mean.argsort()[::-1]:\n",
    "            print(f\"{X_test.columns[i]:<8} \"\n",
    "               f\"{imp.importances_mean[i]:.3f}\"\n",
    "               f\" +/- {imp.importances_std[i]:.3f}\")\n",
    "    \n",
    "    # print estimator score and MSE\n",
    "    print(' ')\n",
    "    print(f'Estimator Score:', best_est.score(X_test, y_test))\n",
    "    mse = mean_squared_error(y_test, best_est.predict(X_test))\n",
    "    print(f'Prediction Error (MSE)', mse)\n",
    "    \n",
    "    # also display it visually\n",
    "    feature_importances = pd.Series(imp.importances_mean, index=X_test.columns).sort_values(ascending=False)\n",
    "    feature_importances = feature_importances.iloc[:num_cols]\n",
    "    \n",
    "    fig, ax = plt.subplots()\n",
    "    feature_importances.plot.bar()\n",
    "    \n",
    "    ax.set_title(\"Importance of Features in Determining Used Car Sale Price\")\n",
    "    ax.set_ylabel(\"Importance Mean\")\n",
    "    ax.set_xlabel(\"Used Car Features\")\n",
    "    fig.tight_layout()"
   ]
  },
  {
   "cell_type": "markdown",
   "id": "0a648648",
   "metadata": {},
   "source": [
    "## Linear Regression with Grid Search on Ploynomial Features"
   ]
  },
  {
   "cell_type": "code",
   "execution_count": 32,
   "id": "1b9a0a1a",
   "metadata": {},
   "outputs": [
    {
     "data": {
      "text/html": [
       "<style>#sk-container-id-1 {color: black;}#sk-container-id-1 pre{padding: 0;}#sk-container-id-1 div.sk-toggleable {background-color: white;}#sk-container-id-1 label.sk-toggleable__label {cursor: pointer;display: block;width: 100%;margin-bottom: 0;padding: 0.3em;box-sizing: border-box;text-align: center;}#sk-container-id-1 label.sk-toggleable__label-arrow:before {content: \"▸\";float: left;margin-right: 0.25em;color: #696969;}#sk-container-id-1 label.sk-toggleable__label-arrow:hover:before {color: black;}#sk-container-id-1 div.sk-estimator:hover label.sk-toggleable__label-arrow:before {color: black;}#sk-container-id-1 div.sk-toggleable__content {max-height: 0;max-width: 0;overflow: hidden;text-align: left;background-color: #f0f8ff;}#sk-container-id-1 div.sk-toggleable__content pre {margin: 0.2em;color: black;border-radius: 0.25em;background-color: #f0f8ff;}#sk-container-id-1 input.sk-toggleable__control:checked~div.sk-toggleable__content {max-height: 200px;max-width: 100%;overflow: auto;}#sk-container-id-1 input.sk-toggleable__control:checked~label.sk-toggleable__label-arrow:before {content: \"▾\";}#sk-container-id-1 div.sk-estimator input.sk-toggleable__control:checked~label.sk-toggleable__label {background-color: #d4ebff;}#sk-container-id-1 div.sk-label input.sk-toggleable__control:checked~label.sk-toggleable__label {background-color: #d4ebff;}#sk-container-id-1 input.sk-hidden--visually {border: 0;clip: rect(1px 1px 1px 1px);clip: rect(1px, 1px, 1px, 1px);height: 1px;margin: -1px;overflow: hidden;padding: 0;position: absolute;width: 1px;}#sk-container-id-1 div.sk-estimator {font-family: monospace;background-color: #f0f8ff;border: 1px dotted black;border-radius: 0.25em;box-sizing: border-box;margin-bottom: 0.5em;}#sk-container-id-1 div.sk-estimator:hover {background-color: #d4ebff;}#sk-container-id-1 div.sk-parallel-item::after {content: \"\";width: 100%;border-bottom: 1px solid gray;flex-grow: 1;}#sk-container-id-1 div.sk-label:hover label.sk-toggleable__label {background-color: #d4ebff;}#sk-container-id-1 div.sk-serial::before {content: \"\";position: absolute;border-left: 1px solid gray;box-sizing: border-box;top: 0;bottom: 0;left: 50%;z-index: 0;}#sk-container-id-1 div.sk-serial {display: flex;flex-direction: column;align-items: center;background-color: white;padding-right: 0.2em;padding-left: 0.2em;position: relative;}#sk-container-id-1 div.sk-item {position: relative;z-index: 1;}#sk-container-id-1 div.sk-parallel {display: flex;align-items: stretch;justify-content: center;background-color: white;position: relative;}#sk-container-id-1 div.sk-item::before, #sk-container-id-1 div.sk-parallel-item::before {content: \"\";position: absolute;border-left: 1px solid gray;box-sizing: border-box;top: 0;bottom: 0;left: 50%;z-index: -1;}#sk-container-id-1 div.sk-parallel-item {display: flex;flex-direction: column;z-index: 1;position: relative;background-color: white;}#sk-container-id-1 div.sk-parallel-item:first-child::after {align-self: flex-end;width: 50%;}#sk-container-id-1 div.sk-parallel-item:last-child::after {align-self: flex-start;width: 50%;}#sk-container-id-1 div.sk-parallel-item:only-child::after {width: 0;}#sk-container-id-1 div.sk-dashed-wrapped {border: 1px dashed gray;margin: 0 0.4em 0.5em 0.4em;box-sizing: border-box;padding-bottom: 0.4em;background-color: white;}#sk-container-id-1 div.sk-label label {font-family: monospace;font-weight: bold;display: inline-block;line-height: 1.2em;}#sk-container-id-1 div.sk-label-container {text-align: center;}#sk-container-id-1 div.sk-container {/* jupyter's `normalize.less` sets `[hidden] { display: none; }` but bootstrap.min.css set `[hidden] { display: none !important; }` so we also need the `!important` here to be able to override the default hidden behavior on the sphinx rendered scikit-learn.org. See: https://github.com/scikit-learn/scikit-learn/issues/21755 */display: inline-block !important;position: relative;}#sk-container-id-1 div.sk-text-repr-fallback {display: none;}</style><div id=\"sk-container-id-1\" class=\"sk-top-container\"><div class=\"sk-text-repr-fallback\"><pre>GridSearchCV(estimator=Pipeline(steps=[(&#x27;transformer&#x27;,\n",
       "                                        ColumnTransformer(remainder=&#x27;passthrough&#x27;,\n",
       "                                                          transformers=[(&#x27;onehotencoder&#x27;,\n",
       "                                                                         OneHotEncoder(drop=&#x27;if_binary&#x27;),\n",
       "                                                                         [&#x27;gearbox&#x27;])])),\n",
       "                                       (&#x27;poly&#x27;,\n",
       "                                        PolynomialFeatures(include_bias=False)),\n",
       "                                       (&#x27;linreg&#x27;, LinearRegression())]),\n",
       "             param_grid={&#x27;poly__degree&#x27;: [1, 2, 3, 4]})</pre><b>In a Jupyter environment, please rerun this cell to show the HTML representation or trust the notebook. <br />On GitHub, the HTML representation is unable to render, please try loading this page with nbviewer.org.</b></div><div class=\"sk-container\" hidden><div class=\"sk-item sk-dashed-wrapped\"><div class=\"sk-label-container\"><div class=\"sk-label sk-toggleable\"><input class=\"sk-toggleable__control sk-hidden--visually\" id=\"sk-estimator-id-1\" type=\"checkbox\" ><label for=\"sk-estimator-id-1\" class=\"sk-toggleable__label sk-toggleable__label-arrow\">GridSearchCV</label><div class=\"sk-toggleable__content\"><pre>GridSearchCV(estimator=Pipeline(steps=[(&#x27;transformer&#x27;,\n",
       "                                        ColumnTransformer(remainder=&#x27;passthrough&#x27;,\n",
       "                                                          transformers=[(&#x27;onehotencoder&#x27;,\n",
       "                                                                         OneHotEncoder(drop=&#x27;if_binary&#x27;),\n",
       "                                                                         [&#x27;gearbox&#x27;])])),\n",
       "                                       (&#x27;poly&#x27;,\n",
       "                                        PolynomialFeatures(include_bias=False)),\n",
       "                                       (&#x27;linreg&#x27;, LinearRegression())]),\n",
       "             param_grid={&#x27;poly__degree&#x27;: [1, 2, 3, 4]})</pre></div></div></div><div class=\"sk-parallel\"><div class=\"sk-parallel-item\"><div class=\"sk-item\"><div class=\"sk-label-container\"><div class=\"sk-label sk-toggleable\"><input class=\"sk-toggleable__control sk-hidden--visually\" id=\"sk-estimator-id-2\" type=\"checkbox\" ><label for=\"sk-estimator-id-2\" class=\"sk-toggleable__label sk-toggleable__label-arrow\">estimator: Pipeline</label><div class=\"sk-toggleable__content\"><pre>Pipeline(steps=[(&#x27;transformer&#x27;,\n",
       "                 ColumnTransformer(remainder=&#x27;passthrough&#x27;,\n",
       "                                   transformers=[(&#x27;onehotencoder&#x27;,\n",
       "                                                  OneHotEncoder(drop=&#x27;if_binary&#x27;),\n",
       "                                                  [&#x27;gearbox&#x27;])])),\n",
       "                (&#x27;poly&#x27;, PolynomialFeatures(include_bias=False)),\n",
       "                (&#x27;linreg&#x27;, LinearRegression())])</pre></div></div></div><div class=\"sk-serial\"><div class=\"sk-item\"><div class=\"sk-serial\"><div class=\"sk-item sk-dashed-wrapped\"><div class=\"sk-label-container\"><div class=\"sk-label sk-toggleable\"><input class=\"sk-toggleable__control sk-hidden--visually\" id=\"sk-estimator-id-3\" type=\"checkbox\" ><label for=\"sk-estimator-id-3\" class=\"sk-toggleable__label sk-toggleable__label-arrow\">transformer: ColumnTransformer</label><div class=\"sk-toggleable__content\"><pre>ColumnTransformer(remainder=&#x27;passthrough&#x27;,\n",
       "                  transformers=[(&#x27;onehotencoder&#x27;,\n",
       "                                 OneHotEncoder(drop=&#x27;if_binary&#x27;),\n",
       "                                 [&#x27;gearbox&#x27;])])</pre></div></div></div><div class=\"sk-parallel\"><div class=\"sk-parallel-item\"><div class=\"sk-item\"><div class=\"sk-label-container\"><div class=\"sk-label sk-toggleable\"><input class=\"sk-toggleable__control sk-hidden--visually\" id=\"sk-estimator-id-4\" type=\"checkbox\" ><label for=\"sk-estimator-id-4\" class=\"sk-toggleable__label sk-toggleable__label-arrow\">onehotencoder</label><div class=\"sk-toggleable__content\"><pre>[&#x27;gearbox&#x27;]</pre></div></div></div><div class=\"sk-serial\"><div class=\"sk-item\"><div class=\"sk-estimator sk-toggleable\"><input class=\"sk-toggleable__control sk-hidden--visually\" id=\"sk-estimator-id-5\" type=\"checkbox\" ><label for=\"sk-estimator-id-5\" class=\"sk-toggleable__label sk-toggleable__label-arrow\">OneHotEncoder</label><div class=\"sk-toggleable__content\"><pre>OneHotEncoder(drop=&#x27;if_binary&#x27;)</pre></div></div></div></div></div></div><div class=\"sk-parallel-item\"><div class=\"sk-item\"><div class=\"sk-label-container\"><div class=\"sk-label sk-toggleable\"><input class=\"sk-toggleable__control sk-hidden--visually\" id=\"sk-estimator-id-6\" type=\"checkbox\" ><label for=\"sk-estimator-id-6\" class=\"sk-toggleable__label sk-toggleable__label-arrow\">remainder</label><div class=\"sk-toggleable__content\"><pre></pre></div></div></div><div class=\"sk-serial\"><div class=\"sk-item\"><div class=\"sk-estimator sk-toggleable\"><input class=\"sk-toggleable__control sk-hidden--visually\" id=\"sk-estimator-id-7\" type=\"checkbox\" ><label for=\"sk-estimator-id-7\" class=\"sk-toggleable__label sk-toggleable__label-arrow\">passthrough</label><div class=\"sk-toggleable__content\"><pre>passthrough</pre></div></div></div></div></div></div></div></div><div class=\"sk-item\"><div class=\"sk-estimator sk-toggleable\"><input class=\"sk-toggleable__control sk-hidden--visually\" id=\"sk-estimator-id-8\" type=\"checkbox\" ><label for=\"sk-estimator-id-8\" class=\"sk-toggleable__label sk-toggleable__label-arrow\">PolynomialFeatures</label><div class=\"sk-toggleable__content\"><pre>PolynomialFeatures(include_bias=False)</pre></div></div></div><div class=\"sk-item\"><div class=\"sk-estimator sk-toggleable\"><input class=\"sk-toggleable__control sk-hidden--visually\" id=\"sk-estimator-id-9\" type=\"checkbox\" ><label for=\"sk-estimator-id-9\" class=\"sk-toggleable__label sk-toggleable__label-arrow\">LinearRegression</label><div class=\"sk-toggleable__content\"><pre>LinearRegression()</pre></div></div></div></div></div></div></div></div></div></div></div></div>"
      ],
      "text/plain": [
       "GridSearchCV(estimator=Pipeline(steps=[('transformer',\n",
       "                                        ColumnTransformer(remainder='passthrough',\n",
       "                                                          transformers=[('onehotencoder',\n",
       "                                                                         OneHotEncoder(drop='if_binary'),\n",
       "                                                                         ['gearbox'])])),\n",
       "                                       ('poly',\n",
       "                                        PolynomialFeatures(include_bias=False)),\n",
       "                                       ('linreg', LinearRegression())]),\n",
       "             param_grid={'poly__degree': [1, 2, 3, 4]})"
      ]
     },
     "execution_count": 32,
     "metadata": {},
     "output_type": "execute_result"
    }
   ],
   "source": [
    "# Linear Regression\n",
    "\n",
    "pipe = Pipeline([('transformer', col_transformer),\n",
    "                    (\"poly\", PolynomialFeatures(include_bias=False)),\n",
    "                    (\"linreg\", LinearRegression())])\n",
    "\n",
    "# Use grid search to find optimal poly degree\n",
    "param_dict = {'poly__degree': [1, 2, 3, 4]}\n",
    "grid_lin = GridSearchCV(estimator=pipe, param_grid=param_dict)\n",
    "grid_lin.fit(X_train, y_train)\n",
    "\n"
   ]
  },
  {
   "cell_type": "markdown",
   "id": "7ddc757f",
   "metadata": {},
   "source": [
    "### Observations\n",
    "\n",
    "Below are the 5 features in their order of impact on the price of the used car using this model. This would turn out to be the **third best model** in terms of high score and low MSE."
   ]
  },
  {
   "cell_type": "code",
   "execution_count": 33,
   "id": "463e381f",
   "metadata": {},
   "outputs": [
    {
     "name": "stdout",
     "output_type": "stream",
     "text": [
      "Feature Importances\n",
      "-------------------\n",
      "yearOfRegistration 0.435 +/- 0.020\n",
      "powerPS  0.311 +/- 0.013\n",
      "kilometer 0.149 +/- 0.011\n",
      "fuelType 0.048 +/- 0.003\n",
      "vehicleType 0.036 +/- 0.012\n",
      "gearbox  0.031 +/- 0.008\n",
      "brand    0.017 +/- 0.004\n",
      "model    0.008 +/- 0.001\n",
      "postalCode 0.006 +/- 0.004\n",
      " \n",
      "Estimator Score: 0.7342332409741272\n",
      "Prediction Error (MSE) 13576790.413451318\n"
     ]
    },
    {
     "data": {
      "image/png": "[encoded data removed]",
      "text/plain": [
       "<Figure size 640x480 with 1 Axes>"
      ]
     },
     "metadata": {},
     "output_type": "display_data"
    }
   ],
   "source": [
    "compute_importance(grid_lin.best_estimator_, X_test, y_test, 30)"
   ]
  },
  {
   "cell_type": "markdown",
   "id": "f4caba49",
   "metadata": {},
   "source": [
    "## Sequential Feature Selection with Grid Search for Optimal number of features"
   ]
  },
  {
   "cell_type": "markdown",
   "id": "c303baf7",
   "metadata": {},
   "source": [
    "### Observations\n",
    "\n",
    "Below are the 5 features in their order of impact on the price of the used car using this model."
   ]
  },
  {
   "cell_type": "code",
   "execution_count": 34,
   "id": "63bd5049",
   "metadata": {},
   "outputs": [
    {
     "name": "stdout",
     "output_type": "stream",
     "text": [
      "Feature Importances\n",
      "-------------------\n",
      "kilometer 0.291 +/- 0.008\n",
      "yearOfRegistration 0.150 +/- 0.004\n",
      "gearbox  0.134 +/- 0.005\n",
      "fuelType 0.060 +/- 0.003\n",
      "brand    0.020 +/- 0.002\n",
      "postalCode 0.000 +/- 0.000\n",
      "model    0.000 +/- 0.000\n",
      "powerPS  0.000 +/- 0.000\n",
      "vehicleType 0.000 +/- 0.000\n",
      " \n",
      "Estimator Score: 0.47609358296860094\n",
      "Prediction Error (MSE) 26763947.629752554\n"
     ]
    },
    {
     "data": {
      "image/png": "[encoded data removed]",
      "text/plain": [
       "<Figure size 640x480 with 1 Axes>"
      ]
     },
     "metadata": {},
     "output_type": "display_data"
    }
   ],
   "source": [
    "selector_pipe = Pipeline([('transformer', col_transformer),\n",
    "                    ('selector', SequentialFeatureSelector(LinearRegression())),\n",
    "                    ('model', LinearRegression())])\n",
    "\n",
    "param_dict = {\"selector__n_features_to_select\":[2,3,4,5]}\n",
    "selector_grid = GridSearchCV(estimator=selector_pipe, param_grid=param_dict)\n",
    "\n",
    "selector_grid.fit(X_train, y_train)\n",
    "\n",
    "best_estimator = selector_grid.best_estimator_\n",
    "compute_importance(best_estimator, X_test, y_test, 30)"
   ]
  },
  {
   "cell_type": "markdown",
   "id": "d09f3f83",
   "metadata": {},
   "source": [
    "## Ridge with Grid Search to choose optimal Alpha"
   ]
  },
  {
   "cell_type": "markdown",
   "id": "bb0e4cab",
   "metadata": {},
   "source": [
    "### Observations\n",
    "\n",
    "Below are the 5 features in their order of impact on the price of the used car using this model."
   ]
  },
  {
   "cell_type": "code",
   "execution_count": 35,
   "id": "4af3e64c",
   "metadata": {},
   "outputs": [
    {
     "name": "stdout",
     "output_type": "stream",
     "text": [
      "Feature Importances\n",
      "-------------------\n",
      "kilometer 0.284 +/- 0.008\n",
      "yearOfRegistration 0.151 +/- 0.004\n",
      "gearbox  0.094 +/- 0.004\n",
      "fuelType 0.058 +/- 0.003\n",
      "powerPS  0.038 +/- 0.001\n",
      "brand    0.028 +/- 0.002\n",
      "vehicleType 0.014 +/- 0.002\n",
      "model    0.007 +/- 0.001\n",
      "postalCode 0.004 +/- 0.001\n",
      " \n",
      "Estimator Score: 0.5184301212160407\n",
      "Prediction Error (MSE) 24601170.355712056\n"
     ]
    },
    {
     "data": {
      "image/png": "[encoded data removed]",
      "text/plain": [
       "<Figure size 640x480 with 1 Axes>"
      ]
     },
     "metadata": {},
     "output_type": "display_data"
    }
   ],
   "source": [
    "ridge_pipe = Pipeline([('transformer', col_transformer),\n",
    "                    (\"scaler\", StandardScaler()),\n",
    "                    ('Ridge', Ridge())])\n",
    "params_dict = {\"Ridge__alpha\":[1e-10, 0.001, 0.1, 1.0, 10.0, 100.0, 1000.0]}\n",
    "\n",
    "ridge_grid = GridSearchCV(ridge_pipe, param_grid=params_dict)\n",
    "ridge_grid.fit(X_train, y_train)\n",
    "\n",
    "best_ridge = ridge_grid.best_estimator_.named_steps['Ridge']\n",
    "\n",
    "trans_pipe = Pipeline([('transformer', col_transformer), \n",
    "                ('regressor', TransformedTargetRegressor(regressor=best_ridge))])\n",
    "trans_pipe.fit(X_train, y_train)\n",
    "\n",
    "compute_importance(trans_pipe, X_test, y_test, 30)"
   ]
  },
  {
   "cell_type": "markdown",
   "id": "52f8c4d0",
   "metadata": {},
   "source": [
    "## RFE with Lasso Estimator"
   ]
  },
  {
   "cell_type": "markdown",
   "id": "220d3f47",
   "metadata": {},
   "source": [
    "### Observations\n",
    "\n",
    "Below are the 5 features in their order of impact on the price of the used car using this model."
   ]
  },
  {
   "cell_type": "code",
   "execution_count": 36,
   "id": "a92d4894",
   "metadata": {},
   "outputs": [
    {
     "name": "stdout",
     "output_type": "stream",
     "text": [
      "Feature Importances\n",
      "-------------------\n",
      "kilometer 0.283 +/- 0.008\n",
      "yearOfRegistration 0.151 +/- 0.004\n",
      "gearbox  0.113 +/- 0.005\n",
      "fuelType 0.055 +/- 0.003\n",
      "powerPS  0.035 +/- 0.001\n",
      "brand    0.027 +/- 0.002\n",
      "vehicleType 0.015 +/- 0.002\n",
      "model    0.007 +/- 0.001\n",
      "postalCode 0.000 +/- 0.000\n",
      " \n",
      "Estimator Score: 0.5177464172491232\n",
      "Prediction Error (MSE) 24636097.61861622\n"
     ]
    },
    {
     "data": {
      "image/png": "[encoded data removed]",
      "text/plain": [
       "<Figure size 640x480 with 1 Axes>"
      ]
     },
     "metadata": {},
     "output_type": "display_data"
    }
   ],
   "source": [
    "rfe_pipe = Pipeline([('transformer', col_transformer),\n",
    "                    ('rfe', RFE(estimator=Lasso(), n_features_to_select=8))])\n",
    "\n",
    "param_dict = {\"rfe__n_features_to_select\":[2,3,4,5,6,7,8]}\n",
    "rfe_grid = GridSearchCV(estimator=rfe_pipe, param_grid=param_dict)\n",
    "\n",
    "rfe_grid.fit(X_train, y_train)\n",
    "\n",
    "best_estimator = rfe_grid.best_estimator_\n",
    "compute_importance(best_estimator, X_test, y_test, 30)"
   ]
  },
  {
   "cell_type": "markdown",
   "id": "ab541322",
   "metadata": {},
   "source": [
    "# Ensemble Models"
   ]
  },
  {
   "cell_type": "markdown",
   "id": "f37cb85e",
   "metadata": {},
   "source": [
    "## Voting Regressor with GridSearch to choose weights\n",
    "\n",
    "This ensemble method preforms only marginally better than the other individual regression models."
   ]
  },
  {
   "cell_type": "code",
   "execution_count": 37,
   "id": "60641257",
   "metadata": {},
   "outputs": [
    {
     "name": "stdout",
     "output_type": "stream",
     "text": [
      "Feature Importances\n",
      "-------------------\n",
      "yearOfRegistration 0.264 +/- 0.005\n",
      "kilometer 0.217 +/- 0.006\n",
      "powerPS  0.185 +/- 0.006\n",
      "gearbox  0.066 +/- 0.003\n",
      "fuelType 0.033 +/- 0.002\n",
      "brand    0.032 +/- 0.002\n",
      "vehicleType 0.027 +/- 0.002\n",
      "model    0.015 +/- 0.002\n",
      "postalCode 0.008 +/- 0.002\n",
      " \n",
      "Estimator Score: 0.6693002603009613\n",
      "Prediction Error (MSE) 16893915.070995245\n"
     ]
    },
    {
     "data": {
      "image/png": "[encoded data removed]",
      "text/plain": [
       "<Figure size 640x480 with 1 Axes>"
      ]
     },
     "metadata": {},
     "output_type": "display_data"
    }
   ],
   "source": [
    "# Voting Regressor\n",
    "\n",
    "vr = VotingRegressor(estimators=[('lgtr', TransformedTargetRegressor(regressor=LinearRegression())), \n",
    "                                      ('knr', KNeighborsRegressor()),\n",
    "                                     ('dtr', DecisionTreeRegressor()),\n",
    "                                      ('rid', Ridge()),\n",
    "                                      ('svr', SVR())])\n",
    "vr_pipe = Pipeline([('transformer', col_transformer), ('vr', vr)])\n",
    "\n",
    "param_dict = {\"vr__weights\":[[0.25, 0.10, 0.25, 0.25, 0.10],\n",
    "                             [0.25, 0.25, 0.25, 0.10, 0.10],\n",
    "                             [0.25, 0.10, 0.10, 0.25, 0.25]]}\n",
    "vr_grid = GridSearchCV(estimator=vr_pipe, param_grid=param_dict)\n",
    "vr_grid.fit(X_train, y_train)\n",
    "\n",
    "best_estimator = vr_grid.best_estimator_\n",
    "compute_importance(best_estimator, X_test, y_test, 30)"
   ]
  },
  {
   "cell_type": "markdown",
   "id": "ac201b75",
   "metadata": {},
   "source": [
    "## Random Forest with GridSearch to pick estimators and depth\n",
    "\n",
    "This would be the second best model after boosting of this model in terms of score (0.862) and a MSE that just amounts to a error of 2,600 (presumed Sterling Pounds) in terms of price of the vehicle. \n",
    "\n",
    "But in terms of fitting and prediction time, this would be **the best model** to use for a pricing tool.  "
   ]
  },
  {
   "cell_type": "code",
   "execution_count": 38,
   "id": "ca1a0b76",
   "metadata": {},
   "outputs": [
    {
     "name": "stdout",
     "output_type": "stream",
     "text": [
      "Feature Importances\n",
      "-------------------\n",
      "yearOfRegistration 0.667 +/- 0.015\n",
      "powerPS  0.473 +/- 0.013\n",
      "kilometer 0.072 +/- 0.002\n",
      "brand    0.040 +/- 0.002\n",
      "vehicleType 0.036 +/- 0.002\n",
      "model    0.021 +/- 0.001\n",
      "gearbox  0.016 +/- 0.002\n",
      "fuelType 0.006 +/- 0.001\n",
      "postalCode 0.005 +/- 0.001\n",
      " \n",
      "Estimator Score: 0.8631950891708661\n",
      "Prediction Error (MSE) 6988728.043589643\n"
     ]
    },
    {
     "data": {
      "image/png": "[encoded data removed]",
      "text/plain": [
       "<Figure size 640x480 with 1 Axes>"
      ]
     },
     "metadata": {},
     "output_type": "display_data"
    }
   ],
   "source": [
    "# Random Forest\n",
    "\n",
    "rfr_pipe = Pipeline([('transformer', col_transformer), ('rfr', RandomForestRegressor())])\n",
    "\n",
    "param_dict = {'rfr__n_estimators':[1, 10, 100, 500, 1000, 2000],\n",
    "             'rfr__max_depth':[1, 2, 3, 4, 5, None]}\n",
    "rfr_grid = GridSearchCV(estimator=rfr_pipe, param_grid=param_dict)\n",
    "rfr_grid.fit(X_train, y_train)\n",
    "\n",
    "best_estimator = rfr_grid.best_estimator_\n",
    "compute_importance(best_estimator, X_test, y_test, 10)"
   ]
  },
  {
   "cell_type": "markdown",
   "id": "3c952eed",
   "metadata": {},
   "source": [
    "# Boosting\n",
    "\n",
    "Boosting the best model - Random Forest. This model performs best in terms of score and MSE out of the 8 models we have tested so far. But **loses out to Random Forest** with no boosting in terms of fitting and prediction time quite badly and hence not the most suited for the pricing tool."
   ]
  },
  {
   "cell_type": "code",
   "execution_count": 39,
   "id": "10baed57",
   "metadata": {},
   "outputs": [
    {
     "data": {
      "text/plain": [
       "{'rfr__max_depth': None, 'rfr__n_estimators': 2000}"
      ]
     },
     "execution_count": 39,
     "metadata": {},
     "output_type": "execute_result"
    }
   ],
   "source": [
    "rfr_grid.best_params_"
   ]
  },
  {
   "cell_type": "code",
   "execution_count": 40,
   "id": "23c45986",
   "metadata": {},
   "outputs": [
    {
     "name": "stdout",
     "output_type": "stream",
     "text": [
      "Feature Importances\n",
      "-------------------\n",
      "yearOfRegistration 0.640 +/- 0.012\n",
      "powerPS  0.430 +/- 0.012\n",
      "kilometer 0.080 +/- 0.001\n",
      "vehicleType 0.037 +/- 0.002\n",
      "brand    0.036 +/- 0.003\n",
      "model    0.023 +/- 0.001\n",
      "gearbox  0.014 +/- 0.001\n",
      "fuelType 0.006 +/- 0.001\n",
      "postalCode 0.002 +/- 0.001\n",
      " \n",
      "Estimator Score: 0.8663164333419784\n",
      "Prediction Error (MSE) 6829273.054655855\n"
     ]
    },
    {
     "data": {
      "image/png": "[encoded data removed]",
      "text/plain": [
       "<Figure size 640x480 with 1 Axes>"
      ]
     },
     "metadata": {},
     "output_type": "display_data"
    }
   ],
   "source": [
    "abr = AdaBoostRegressor(estimator=RandomForestRegressor(max_depth=None, n_estimators=2000), random_state=42)\n",
    "\n",
    "abr_pipe = Pipeline([('transformer', col_transformer), ('abr', abr)])\n",
    "abr_pipe.fit(X_train, y_train)\n",
    "\n",
    "compute_importance(abr_pipe, X_test, y_test, 3)"
   ]
  },
  {
   "cell_type": "markdown",
   "id": "6b3b93e5",
   "metadata": {},
   "source": [
    "# Neural Network Model\n",
    "\n",
    "Though this model based on Convolutional Neural Network comes back with a 8 digit MSE that is better than most of the single regression models, it does not beat the MSEs delivered by Ensemble Models. "
   ]
  },
  {
   "cell_type": "code",
   "execution_count": 41,
   "id": "850737b9",
   "metadata": {},
   "outputs": [
    {
     "data": {
      "text/plain": [
       "((26741, 9), (26741,), (6686, 9), (6686,))"
      ]
     },
     "execution_count": 41,
     "metadata": {},
     "output_type": "execute_result"
    }
   ],
   "source": [
    "# Prepare data for NN\n",
    "\n",
    "Xnn = X.copy()\n",
    "Xnn['price'] = cars['price']\n",
    "Xnn = shuffle(Xnn)\n",
    "\n",
    "features = np.asarray(col_transformer.fit_transform(Xnn)).astype('float32')\n",
    "train, dev = np.split(features, [int(len(features) * 0.8)])\n",
    "\n",
    "train_features = train[:, :-1]\n",
    "train_target = train[:, -1]\n",
    "\n",
    "dev_features = dev[:, :-1]\n",
    "dev_target = dev[:, -1]\n",
    "\n",
    "train_features.shape, train_target.shape, dev_features.shape, dev_target.shape"
   ]
  },
  {
   "cell_type": "code",
   "execution_count": 42,
   "id": "53db2cec",
   "metadata": {},
   "outputs": [
    {
     "name": "stdout",
     "output_type": "stream",
     "text": [
      "MSE using Convolutional Neural Networks is: 14684364.0\n"
     ]
    }
   ],
   "source": [
    "cnn = Sequential()\n",
    "cnn.add(Dense(64, activation='relu'))\n",
    "cnn.add(Dense(64, activation='relu'))\n",
    "cnn.add(Dense(64, activation='relu'))\n",
    "cnn.add(Dense(64, activation='relu'))\n",
    "cnn.add(Dense(64, activation='relu'))\n",
    "cnn.add(Dense(1, activation=None))\n",
    "\n",
    "cnn.compile(optimizer='rmsprop', loss='mae', metrics=['mse'])\n",
    "\n",
    "history = cnn.fit(train_features, train_target, validation_data=(dev_features, dev_target), epochs=1000, verbose=0)\n",
    "print(f'MSE using Convolutional Neural Networks is: {history.history[\"mse\"][-1]}')"
   ]
  },
  {
   "cell_type": "markdown",
   "id": "c11df219",
   "metadata": {},
   "source": [
    "# The Price Estimator \n",
    "\n",
    "Now we will use our best model to build a price estimator which a used car buyer can use to estimate the price to pay for a car in the market that interests them by simply plugging in the car features.\n",
    "\n",
    "Though the model with the best score (and lowest MSE) is RandomForest with AdaBoost, we will use **RandomForest without boost** as boosting considerably increases the execution time for a score that is only better by 0.004%.\n",
    "\n",
    "This model will then be hosted on a website for easy access and use. \n",
    "\n",
    "Below is a trial run."
   ]
  },
  {
   "cell_type": "code",
   "execution_count": 44,
   "id": "4f29fd87",
   "metadata": {},
   "outputs": [
    {
     "name": "stderr",
     "output_type": "stream",
     "text": [
      "/Users/sriram.rao/anaconda3/lib/python3.11/site-packages/sklearn/base.py:464: UserWarning: X does not have valid feature names, but RandomForestRegressor was fitted with feature names\n",
      "  warnings.warn(\n"
     ]
    },
    {
     "name": "stdout",
     "output_type": "stream",
     "text": [
      "The estimated fair price for a 2018 Mercedes-Benz Coupe which has run 40,000 Kilometers, engine power 136 is: 20616\n"
     ]
    }
   ],
   "source": [
    "# Now let's write a funtion that builds a model including only the features that were selected by our \n",
    "# best model as most impactful on pricing\n",
    "\n",
    "# This method will be called from a web page after accepting values for the 5 features in a web form\n",
    "# which will then display the estimated price once the user submits the form\n",
    "\n",
    "def used_car_price_estimate(odometer, model_year, power, brand, vehicle_type):\n",
    "    \n",
    "    X_train = X[['kilometer', 'yearOfRegistration', 'powerPS', 'brand', 'vehicleType']]\n",
    "    y_train = y\n",
    "\n",
    "    rfr = RandomForestRegressor(max_depth=None, n_estimators=2000)\n",
    "    rfr.fit(X_train, y_train)\n",
    "\n",
    "    # Predic price for the particular with the input features \n",
    "    estimated_price = rfr.predict([[odometer, model_year, power, brand, vehicle_type]])\n",
    "    \n",
    "    return estimated_price\n",
    "\n",
    "# brand 20 is the label for mercedes-benz, and vehicle_type 2 stands for a couple\n",
    "price = used_car_price_estimate(odometer=40000, model_year=2018, power=136, brand=20, vehicle_type=2)\n",
    "\n",
    "print(f'The estimated fair price for a 2018 Mercedes-Benz Coupe which has run 40,000 Kilometers, engine power 136 is: {int(price[0])}')"
   ]
  },
  {
   "cell_type": "markdown",
   "id": "33c97d6b",
   "metadata": {},
   "source": [
    "# Conclusion\n",
    "\n",
    "We now a have price estimator tool that uses historical used car price data to provide a used car buy with an estimated price he can safely pay based on the features of the vehicle he has selected.\n",
    "\n",
    "Note that the car's model, transmission type and many other features did not have significant impact on the pricing. This means the buyer is free to select any model and other features of their choice without having to worry about paying a premium for it. \n",
    "\n",
    "The tool developed gives the buyer the power to make the car choices without worrying about overpaying!"
   ]
  }
 ],
 "metadata": {
  "kernelspec": {
   "display_name": "Python 3 (ipykernel)",
   "language": "python",
   "name": "python3"
  },
  "language_info": {
   "codemirror_mode": {
    "name": "ipython",
    "version": 3
   },
   "file_extension": ".py",
   "mimetype": "text/x-python",
   "name": "python",
   "nbconvert_exporter": "python",
   "pygments_lexer": "ipython3",
   "version": "3.11.4"
  }
 },
 "nbformat": 4,
 "nbformat_minor": 5
}
