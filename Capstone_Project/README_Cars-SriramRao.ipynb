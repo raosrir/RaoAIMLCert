{
 "cells": [
  {
   "cell_type": "markdown",
   "id": "50936916",
   "metadata": {},
   "source": [
    "# Used Vehicle Pricing Tool\n",
    "\n",
    "By Sriram Rao"
   ]
  },
  {
   "cell_type": "markdown",
   "id": "2a30a323",
   "metadata": {},
   "source": [
    "## What is the right price to pay for a used vehicle?\n",
    "\n",
    "The biggest dilemma facing a customer in the market for a used automobile is \"what is a fair price for this vehicle?\". This question is more significant with a used vehicle purchase than a new one as there is no standard MSRP associated with the make, model, and year as with a new auto. \n",
    "\n",
    "In addition, used cars sold by private parties bring more uncertainly in pricing and quality into the mix making it a risky transaction. While it we will not address the quality risks, we can certainly take on the pricing problem. \n",
    "\n",
    "In this project we will use the historical prices of used vehicles in Europe to device a model that would let a used auto buyer estimate the price they would expect to pay based on the main (yet basic) features of used vehicles.\n",
    "\n",
    "The source of historical used car price data employed in this project was obtained from: https://www.kaggle.com/datasets/sanskrutipanda/car-pricing-prediction\n"
   ]
  },
  {
   "attachments": {},
   "cell_type": "markdown",
   "id": "5f676544",
   "metadata": {},
   "source": [
    "## The Model\n",
    "\n",
    "Adopting the CRISP-DM methodology of arriving at a model, we selected the **Random Forest Ensemble Regressor Model** that uses a 'forest' of binary trees to solve the used vehicle pricing problem.\n",
    "\n",
    "You can refer to the detailed study in this [document](Cars-SriramRao.ipynb).\n",
    "\n",
    "The model selected 5 features with their relative impact on the used car price shown by the bar graph below. The features chosen in their order of decreasing importance are:\n",
    "\n",
    "1. Year of Registration (closely related to year of manufacture)\n",
    "2. The power of the engine\n",
    "3. Kilometers the vehicle has run (Odometer reading)\n",
    "4. Brand or make of the car - like Mercedes-Benz, Volvo, Volkswagen  \n",
    "5. Vehicle type - car, SUV, Limo etc.\n",
    "\n",
    "![CarFeatures](Cars-SriramRao.png)"
   ]
  },
  {
   "cell_type": "markdown",
   "id": "4b54f33f",
   "metadata": {},
   "source": [
    "## The Pricing Tool\n",
    "\n",
    "Now we have the ability to estimate the used car price given the 5 features of the vehicle chosen by the customer.\n",
    "\n",
    "We will publish this pricing tool as a web page www.usedcarprice.com for easy internet wide access by customers.\n",
    "\n",
    "Once the customer has chosen a used car offered by a private seller they are interested in buying, they will access the web page hosted by us and enter the following details of the car of their interest:\n",
    "\n",
    "* Year of Registration (Manufacture)\n",
    "* The power of the engine\n",
    "* Kilometers the vehicle has run (Odometer reading)\n",
    "* Brand (Make) of the car - like Volvo, Voklswagen, Mercedes-Benz\n",
    "* Vehicle type - car, SUV, Limo etc\n",
    "\n",
    "With the click of a button the estimated price the customer can safely pay will be displayed on the web browser!\n"
   ]
  },
  {
   "cell_type": "markdown",
   "id": "2f23ff84",
   "metadata": {},
   "source": [
    "## Summary\n",
    "\n",
    "This project to build a price estimator for used vehicles that the consumer/end user can rely on to help them with the vehicle buying process has been completed. \n",
    "\n",
    "Note that the car's model, type of transmission (manual, automatic) or other features than the above mentioned five, did not have significant impact on the pricing. This means the buyer is free to select any of the other features of their choice without having to worry about paying a premium for it.\n",
    "\n",
    "The tool developed gives the buyer the power to make the car choices without worrying about overpaying!"
   ]
  }
 ],
 "metadata": {
  "kernelspec": {
   "display_name": "Python 3 (ipykernel)",
   "language": "python",
   "name": "python3"
  },
  "language_info": {
   "codemirror_mode": {
    "name": "ipython",
    "version": 3
   },
   "file_extension": ".py",
   "mimetype": "text/x-python",
   "name": "python",
   "nbconvert_exporter": "python",
   "pygments_lexer": "ipython3",
   "version": "3.11.4"
  }
 },
 "nbformat": 4,
 "nbformat_minor": 5
}
