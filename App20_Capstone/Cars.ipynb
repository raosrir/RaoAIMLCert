{
 "cells": [
  {
   "cell_type": "markdown",
   "id": "f221fbc2",
   "metadata": {},
   "source": [
    "# What is the right price to pay for a used car?\n",
    "\n",
    "The biggest dilemma facing a customer in the market for a used car is \"what is a fair price for this car\". This question is more significant with a used car purchase than a new car as there is no standard MSRP associated with the make, model, and year as with a new car. \n",
    "\n",
    "In addition, used cars sold by private parties bring more uncertainly in pricing and quality into the mix making it a risky transaction. While it we will not address the legal risks, we can certainly take on the pricing problem. \n",
    "\n",
    "In this project we will use the historical prices of used cars in Europe to device a model that would let a used car buy estimate the price he would expect to pay based on the main (yet basic) features of used cars. \n",
    "\n",
    "The source of historical used car price data employed in this project was obtained from: https://www.kaggle.com/datasets/sanskrutipanda/car-pricing-prediction"
   ]
  },
  {
   "cell_type": "code",
   "execution_count": 39,
   "id": "0cbe1625",
   "metadata": {},
   "outputs": [],
   "source": [
    "import pandas as pd\n",
    "from sklearn.inspection import permutation_importance\n",
    "from sklearn.pipeline import Pipeline\n",
    "from sklearn.compose import make_column_transformer, make_column_selector, TransformedTargetRegressor\n",
    "from sklearn.preprocessing import OneHotEncoder, TargetEncoder, PolynomialFeatures, StandardScaler, LabelEncoder\n",
    "from sklearn.linear_model import LinearRegression, Lasso, Ridge\n",
    "from sklearn.model_selection import train_test_split, GridSearchCV\n",
    "from sklearn.metrics import mean_squared_error\n",
    "from sklearn.preprocessing import LabelEncoder\n",
    "from sklearn.feature_selection import SequentialFeatureSelector, RFE\n",
    "\n",
    "import numpy as np\n",
    "import matplotlib.pyplot as plt"
   ]
  },
  {
   "cell_type": "code",
   "execution_count": 40,
   "id": "67c59344",
   "metadata": {},
   "outputs": [],
   "source": [
    "cars = pd.read_csv('cars_sampled.csv')"
   ]
  },
  {
   "cell_type": "code",
   "execution_count": 41,
   "id": "6926be0d",
   "metadata": {},
   "outputs": [
    {
     "name": "stdout",
     "output_type": "stream",
     "text": [
      "<class 'pandas.core.frame.DataFrame'>\n",
      "RangeIndex: 50001 entries, 0 to 50000\n",
      "Data columns (total 19 columns):\n",
      " #   Column               Non-Null Count  Dtype \n",
      "---  ------               --------------  ----- \n",
      " 0   dateCrawled          50001 non-null  object\n",
      " 1   name                 50001 non-null  object\n",
      " 2   seller               50001 non-null  object\n",
      " 3   offerType            50001 non-null  object\n",
      " 4   price                50001 non-null  int64 \n",
      " 5   abtest               50001 non-null  object\n",
      " 6   vehicleType          44813 non-null  object\n",
      " 7   yearOfRegistration   50001 non-null  int64 \n",
      " 8   gearbox              47177 non-null  object\n",
      " 9   powerPS              50001 non-null  int64 \n",
      " 10  model                47243 non-null  object\n",
      " 11  kilometer            50001 non-null  int64 \n",
      " 12  monthOfRegistration  50001 non-null  int64 \n",
      " 13  fuelType             45498 non-null  object\n",
      " 14  brand                50001 non-null  object\n",
      " 15  notRepairedDamage    40285 non-null  object\n",
      " 16  dateCreated          50001 non-null  object\n",
      " 17  postalCode           50001 non-null  int64 \n",
      " 18  lastSeen             50001 non-null  object\n",
      "dtypes: int64(6), object(13)\n",
      "memory usage: 7.2+ MB\n"
     ]
    }
   ],
   "source": [
    "cars.info()"
   ]
  },
  {
   "cell_type": "markdown",
   "id": "75d690ee",
   "metadata": {},
   "source": [
    "# Data Cleanup and Inspection"
   ]
  },
  {
   "cell_type": "markdown",
   "id": "1557aa41",
   "metadata": {},
   "source": [
    "## Drop null value data"
   ]
  },
  {
   "cell_type": "code",
   "execution_count": 42,
   "id": "c226b0b9",
   "metadata": {},
   "outputs": [],
   "source": [
    "cars = cars.dropna()"
   ]
  },
  {
   "cell_type": "code",
   "execution_count": 43,
   "id": "066364be",
   "metadata": {},
   "outputs": [
    {
     "name": "stdout",
     "output_type": "stream",
     "text": [
      "<class 'pandas.core.frame.DataFrame'>\n",
      "Int64Index: 35107 entries, 1 to 50000\n",
      "Data columns (total 19 columns):\n",
      " #   Column               Non-Null Count  Dtype \n",
      "---  ------               --------------  ----- \n",
      " 0   dateCrawled          35107 non-null  object\n",
      " 1   name                 35107 non-null  object\n",
      " 2   seller               35107 non-null  object\n",
      " 3   offerType            35107 non-null  object\n",
      " 4   price                35107 non-null  int64 \n",
      " 5   abtest               35107 non-null  object\n",
      " 6   vehicleType          35107 non-null  object\n",
      " 7   yearOfRegistration   35107 non-null  int64 \n",
      " 8   gearbox              35107 non-null  object\n",
      " 9   powerPS              35107 non-null  int64 \n",
      " 10  model                35107 non-null  object\n",
      " 11  kilometer            35107 non-null  int64 \n",
      " 12  monthOfRegistration  35107 non-null  int64 \n",
      " 13  fuelType             35107 non-null  object\n",
      " 14  brand                35107 non-null  object\n",
      " 15  notRepairedDamage    35107 non-null  object\n",
      " 16  dateCreated          35107 non-null  object\n",
      " 17  postalCode           35107 non-null  int64 \n",
      " 18  lastSeen             35107 non-null  object\n",
      "dtypes: int64(6), object(13)\n",
      "memory usage: 5.4+ MB\n"
     ]
    }
   ],
   "source": [
    "cars.info()"
   ]
  },
  {
   "cell_type": "markdown",
   "id": "bd400607",
   "metadata": {},
   "source": [
    "## Inspect Data Range and Values for feature selection"
   ]
  },
  {
   "cell_type": "code",
   "execution_count": 44,
   "id": "b74882e3",
   "metadata": {},
   "outputs": [
    {
     "data": {
      "text/plain": [
       "private       35106\n",
       "commercial        1\n",
       "Name: seller, dtype: int64"
      ]
     },
     "execution_count": 44,
     "metadata": {},
     "output_type": "execute_result"
    }
   ],
   "source": [
    "cars['seller'].value_counts()"
   ]
  },
  {
   "cell_type": "code",
   "execution_count": 45,
   "id": "73f90ec0",
   "metadata": {},
   "outputs": [
    {
     "data": {
      "text/plain": [
       "offer      35106\n",
       "request        1\n",
       "Name: offerType, dtype: int64"
      ]
     },
     "execution_count": 45,
     "metadata": {},
     "output_type": "execute_result"
    }
   ],
   "source": [
    "cars['offerType'].value_counts()"
   ]
  },
  {
   "cell_type": "code",
   "execution_count": 46,
   "id": "006cae32",
   "metadata": {},
   "outputs": [
    {
     "data": {
      "text/plain": [
       "test       18161\n",
       "control    16946\n",
       "Name: abtest, dtype: int64"
      ]
     },
     "execution_count": 46,
     "metadata": {},
     "output_type": "execute_result"
    }
   ],
   "source": [
    "cars['abtest'].value_counts()"
   ]
  },
  {
   "cell_type": "code",
   "execution_count": 47,
   "id": "bc7c63da",
   "metadata": {},
   "outputs": [
    {
     "data": {
      "text/plain": [
       "limousine        10378\n",
       "small car         7994\n",
       "station wagon     7137\n",
       "bus               3315\n",
       "cabrio            2443\n",
       "coupe             1981\n",
       "suv               1628\n",
       "others             231\n",
       "Name: vehicleType, dtype: int64"
      ]
     },
     "execution_count": 47,
     "metadata": {},
     "output_type": "execute_result"
    }
   ],
   "source": [
    "cars['vehicleType'].value_counts()"
   ]
  },
  {
   "cell_type": "code",
   "execution_count": 48,
   "id": "48861cac",
   "metadata": {},
   "outputs": [
    {
     "data": {
      "text/plain": [
       "2018"
      ]
     },
     "execution_count": 48,
     "metadata": {},
     "output_type": "execute_result"
    }
   ],
   "source": [
    "cars['yearOfRegistration'].max()"
   ]
  },
  {
   "cell_type": "code",
   "execution_count": 49,
   "id": "3634e66c",
   "metadata": {},
   "outputs": [
    {
     "data": {
      "text/plain": [
       "1929"
      ]
     },
     "execution_count": 49,
     "metadata": {},
     "output_type": "execute_result"
    }
   ],
   "source": [
    "cars['yearOfRegistration'].min()"
   ]
  },
  {
   "cell_type": "code",
   "execution_count": 50,
   "id": "dc7d671d",
   "metadata": {},
   "outputs": [
    {
     "data": {
      "text/plain": [
       "manual       26895\n",
       "automatic     8212\n",
       "Name: gearbox, dtype: int64"
      ]
     },
     "execution_count": 50,
     "metadata": {},
     "output_type": "execute_result"
    }
   ],
   "source": [
    "cars['gearbox'].value_counts()"
   ]
  },
  {
   "cell_type": "code",
   "execution_count": 51,
   "id": "8d228879",
   "metadata": {},
   "outputs": [
    {
     "data": {
      "text/plain": [
       "75     2276\n",
       "150    1575\n",
       "60     1466\n",
       "140    1466\n",
       "0      1328\n",
       "       ... \n",
       "383       1\n",
       "212       1\n",
       "390       1\n",
       "9         1\n",
       "386       1\n",
       "Name: powerPS, Length: 392, dtype: int64"
      ]
     },
     "execution_count": 51,
     "metadata": {},
     "output_type": "execute_result"
    }
   ],
   "source": [
    "cars['powerPS'].value_counts()"
   ]
  },
  {
   "cell_type": "code",
   "execution_count": 52,
   "id": "e6b88524",
   "metadata": {},
   "outputs": [
    {
     "data": {
      "text/plain": [
       "golf          2758\n",
       "others        2629\n",
       "3er           2129\n",
       "polo          1191\n",
       "corsa         1117\n",
       "              ... \n",
       "move             1\n",
       "serie_3          1\n",
       "serie_2          1\n",
       "b_max            1\n",
       "rangerover       1\n",
       "Name: model, Length: 245, dtype: int64"
      ]
     },
     "execution_count": 52,
     "metadata": {},
     "output_type": "execute_result"
    }
   ],
   "source": [
    "cars['model'].value_counts()"
   ]
  },
  {
   "cell_type": "code",
   "execution_count": 53,
   "id": "d8d423cb",
   "metadata": {},
   "outputs": [
    {
     "data": {
      "text/plain": [
       "petrol     22888\n",
       "diesel     11547\n",
       "lpg          557\n",
       "cng           67\n",
       "hybrid        31\n",
       "electro       10\n",
       "other          7\n",
       "Name: fuelType, dtype: int64"
      ]
     },
     "execution_count": 53,
     "metadata": {},
     "output_type": "execute_result"
    }
   ],
   "source": [
    "cars['fuelType'].value_counts()"
   ]
  },
  {
   "cell_type": "code",
   "execution_count": 54,
   "id": "ba916377",
   "metadata": {},
   "outputs": [
    {
     "data": {
      "text/plain": [
       "volkswagen       7220\n",
       "bmw              4112\n",
       "mercedes_benz    3646\n",
       "opel             3514\n",
       "audi             3377\n",
       "ford             2325\n",
       "renault          1626\n",
       "peugeot          1097\n",
       "fiat              820\n",
       "seat              694\n",
       "skoda             596\n",
       "mazda             541\n",
       "nissan            502\n",
       "citroen           494\n",
       "toyota            479\n",
       "smart             464\n",
       "volvo             376\n",
       "mini              370\n",
       "hyundai           361\n",
       "mitsubishi        281\n",
       "porsche           266\n",
       "honda             243\n",
       "kia               238\n",
       "suzuki            220\n",
       "alfa_romeo        205\n",
       "chevrolet         176\n",
       "chrysler          149\n",
       "dacia             106\n",
       "subaru             93\n",
       "jeep               79\n",
       "land_rover         70\n",
       "jaguar             64\n",
       "saab               59\n",
       "daihatsu           58\n",
       "daewoo             51\n",
       "lancia             44\n",
       "rover              37\n",
       "trabant            33\n",
       "lada               21\n",
       "Name: brand, dtype: int64"
      ]
     },
     "execution_count": 54,
     "metadata": {},
     "output_type": "execute_result"
    }
   ],
   "source": [
    "cars['brand'].value_counts()"
   ]
  },
  {
   "cell_type": "code",
   "execution_count": 55,
   "id": "1ca4d401",
   "metadata": {},
   "outputs": [
    {
     "data": {
      "text/plain": [
       "no     31324\n",
       "yes     3783\n",
       "Name: notRepairedDamage, dtype: int64"
      ]
     },
     "execution_count": 55,
     "metadata": {},
     "output_type": "execute_result"
    }
   ],
   "source": [
    "cars['notRepairedDamage'].value_counts()"
   ]
  },
  {
   "cell_type": "code",
   "execution_count": 56,
   "id": "95bc40ed",
   "metadata": {},
   "outputs": [
    {
     "data": {
      "text/plain": [
       "12345678"
      ]
     },
     "execution_count": 56,
     "metadata": {},
     "output_type": "execute_result"
    }
   ],
   "source": [
    "cars['price'].max()"
   ]
  },
  {
   "cell_type": "code",
   "execution_count": 57,
   "id": "dad6bb8a",
   "metadata": {},
   "outputs": [
    {
     "data": {
      "text/plain": [
       "0"
      ]
     },
     "execution_count": 57,
     "metadata": {},
     "output_type": "execute_result"
    }
   ],
   "source": [
    "cars['price'].min()"
   ]
  },
  {
   "cell_type": "code",
   "execution_count": 58,
   "id": "f548fd24",
   "metadata": {},
   "outputs": [
    {
     "data": {
      "text/plain": [
       "175000      1\n",
       "23700       1\n",
       "8666        1\n",
       "4889        1\n",
       "19290       1\n",
       "         ... \n",
       "1200      377\n",
       "2500      393\n",
       "500       424\n",
       "0         444\n",
       "1500      469\n",
       "Name: price, Length: 2155, dtype: int64"
      ]
     },
     "execution_count": 58,
     "metadata": {},
     "output_type": "execute_result"
    }
   ],
   "source": [
    "cars['price'].value_counts().sort_values()"
   ]
  },
  {
   "cell_type": "markdown",
   "id": "5c2a1dd4",
   "metadata": {},
   "source": [
    "## Features we will not use\n",
    "\n",
    "To mitigate the 'Curse of Dimensionality' we will do away with feature that we do not expect to contribute to our model. We will drop the following feature for the reasons cited.\n",
    "\n",
    "1. **Seller**: All but one car are sold by private sellers and hence this feature is insignificant to our model\n",
    "2. **OfferType**: This again has all but one vehicle in the 'offered' category and hence can be discarded\n",
    "3. **abtest**: This feature has two classes with the number of cars almost evenly split between the two and hence can be dropped\n",
    "4. **notRepairedDamage**: This two-class feature has only about 10% in one of the classes and hence ignored"
   ]
  },
  {
   "cell_type": "code",
   "execution_count": 59,
   "id": "ed7114fe",
   "metadata": {},
   "outputs": [
    {
     "data": {
      "text/html": [
       "<div>\n",
       "<style scoped>\n",
       "    .dataframe tbody tr th:only-of-type {\n",
       "        vertical-align: middle;\n",
       "    }\n",
       "\n",
       "    .dataframe tbody tr th {\n",
       "        vertical-align: top;\n",
       "    }\n",
       "\n",
       "    .dataframe thead th {\n",
       "        text-align: right;\n",
       "    }\n",
       "</style>\n",
       "<table border=\"1\" class=\"dataframe\">\n",
       "  <thead>\n",
       "    <tr style=\"text-align: right;\">\n",
       "      <th></th>\n",
       "      <th>vehicleType</th>\n",
       "      <th>yearOfRegistration</th>\n",
       "      <th>gearbox</th>\n",
       "      <th>powerPS</th>\n",
       "      <th>kilometer</th>\n",
       "      <th>model</th>\n",
       "      <th>brand</th>\n",
       "      <th>fuelType</th>\n",
       "      <th>postalCode</th>\n",
       "    </tr>\n",
       "  </thead>\n",
       "  <tbody>\n",
       "    <tr>\n",
       "      <th>1</th>\n",
       "      <td>suv</td>\n",
       "      <td>2005</td>\n",
       "      <td>manual</td>\n",
       "      <td>163</td>\n",
       "      <td>150000</td>\n",
       "      <td>xc_reihe</td>\n",
       "      <td>volvo</td>\n",
       "      <td>diesel</td>\n",
       "      <td>88045</td>\n",
       "    </tr>\n",
       "    <tr>\n",
       "      <th>3</th>\n",
       "      <td>small car</td>\n",
       "      <td>2006</td>\n",
       "      <td>manual</td>\n",
       "      <td>86</td>\n",
       "      <td>60000</td>\n",
       "      <td>ibiza</td>\n",
       "      <td>seat</td>\n",
       "      <td>petrol</td>\n",
       "      <td>34537</td>\n",
       "    </tr>\n",
       "    <tr>\n",
       "      <th>4</th>\n",
       "      <td>suv</td>\n",
       "      <td>2008</td>\n",
       "      <td>automatic</td>\n",
       "      <td>185</td>\n",
       "      <td>150000</td>\n",
       "      <td>xc_reihe</td>\n",
       "      <td>volvo</td>\n",
       "      <td>diesel</td>\n",
       "      <td>55270</td>\n",
       "    </tr>\n",
       "    <tr>\n",
       "      <th>5</th>\n",
       "      <td>limousine</td>\n",
       "      <td>1995</td>\n",
       "      <td>manual</td>\n",
       "      <td>90</td>\n",
       "      <td>150000</td>\n",
       "      <td>passat</td>\n",
       "      <td>volkswagen</td>\n",
       "      <td>petrol</td>\n",
       "      <td>26826</td>\n",
       "    </tr>\n",
       "    <tr>\n",
       "      <th>7</th>\n",
       "      <td>coupe</td>\n",
       "      <td>1997</td>\n",
       "      <td>manual</td>\n",
       "      <td>136</td>\n",
       "      <td>150000</td>\n",
       "      <td>clk</td>\n",
       "      <td>mercedes_benz</td>\n",
       "      <td>petrol</td>\n",
       "      <td>13353</td>\n",
       "    </tr>\n",
       "  </tbody>\n",
       "</table>\n",
       "</div>"
      ],
      "text/plain": [
       "  vehicleType  yearOfRegistration    gearbox  powerPS  kilometer     model  \\\n",
       "1         suv                2005     manual      163     150000  xc_reihe   \n",
       "3   small car                2006     manual       86      60000     ibiza   \n",
       "4         suv                2008  automatic      185     150000  xc_reihe   \n",
       "5   limousine                1995     manual       90     150000    passat   \n",
       "7       coupe                1997     manual      136     150000       clk   \n",
       "\n",
       "           brand fuelType  postalCode  \n",
       "1          volvo   diesel       88045  \n",
       "3           seat   petrol       34537  \n",
       "4          volvo   diesel       55270  \n",
       "5     volkswagen   petrol       26826  \n",
       "7  mercedes_benz   petrol       13353  "
      ]
     },
     "execution_count": 59,
     "metadata": {},
     "output_type": "execute_result"
    }
   ],
   "source": [
    "X = cars[['vehicleType', 'yearOfRegistration', 'gearbox', 'powerPS', 'kilometer', 'model', 'brand', \n",
    "              'fuelType', 'postalCode']]\n",
    "\n",
    "X.head()"
   ]
  },
  {
   "cell_type": "markdown",
   "id": "288fd4f7",
   "metadata": {},
   "source": [
    "# Preprocessing"
   ]
  },
  {
   "cell_type": "markdown",
   "id": "e60d6ef5",
   "metadata": {},
   "source": [
    "For non-numeric features we will pick **LabelEncoder** and **OneHotEncoder** to convert them to numeric.\n",
    "\n",
    "1. **LabelEncoder**: We will use this encoder for features vehicleType, model, brand and fuelType in order to keep the dimensions from exploding as it would with OneHotEncoder as these are multi valued classes.\n",
    "2. **OneHotEncoder**: We will use OneHotEncoder just for the gearbox feature as it is binary and we will use this by setting 'drop if binary' to true."
   ]
  },
  {
   "cell_type": "code",
   "execution_count": 60,
   "id": "6ad92638",
   "metadata": {},
   "outputs": [
    {
     "data": {
      "text/html": [
       "<div>\n",
       "<style scoped>\n",
       "    .dataframe tbody tr th:only-of-type {\n",
       "        vertical-align: middle;\n",
       "    }\n",
       "\n",
       "    .dataframe tbody tr th {\n",
       "        vertical-align: top;\n",
       "    }\n",
       "\n",
       "    .dataframe thead th {\n",
       "        text-align: right;\n",
       "    }\n",
       "</style>\n",
       "<table border=\"1\" class=\"dataframe\">\n",
       "  <thead>\n",
       "    <tr style=\"text-align: right;\">\n",
       "      <th></th>\n",
       "      <th>vehicleType</th>\n",
       "      <th>yearOfRegistration</th>\n",
       "      <th>gearbox</th>\n",
       "      <th>powerPS</th>\n",
       "      <th>kilometer</th>\n",
       "      <th>model</th>\n",
       "      <th>brand</th>\n",
       "      <th>fuelType</th>\n",
       "      <th>postalCode</th>\n",
       "    </tr>\n",
       "  </thead>\n",
       "  <tbody>\n",
       "    <tr>\n",
       "      <th>1</th>\n",
       "      <td>7</td>\n",
       "      <td>2005</td>\n",
       "      <td>manual</td>\n",
       "      <td>163</td>\n",
       "      <td>150000</td>\n",
       "      <td>239</td>\n",
       "      <td>38</td>\n",
       "      <td>1</td>\n",
       "      <td>88045</td>\n",
       "    </tr>\n",
       "    <tr>\n",
       "      <th>3</th>\n",
       "      <td>5</td>\n",
       "      <td>2006</td>\n",
       "      <td>manual</td>\n",
       "      <td>86</td>\n",
       "      <td>60000</td>\n",
       "      <td>118</td>\n",
       "      <td>30</td>\n",
       "      <td>6</td>\n",
       "      <td>34537</td>\n",
       "    </tr>\n",
       "    <tr>\n",
       "      <th>4</th>\n",
       "      <td>7</td>\n",
       "      <td>2008</td>\n",
       "      <td>automatic</td>\n",
       "      <td>185</td>\n",
       "      <td>150000</td>\n",
       "      <td>239</td>\n",
       "      <td>38</td>\n",
       "      <td>1</td>\n",
       "      <td>55270</td>\n",
       "    </tr>\n",
       "    <tr>\n",
       "      <th>5</th>\n",
       "      <td>3</td>\n",
       "      <td>1995</td>\n",
       "      <td>manual</td>\n",
       "      <td>90</td>\n",
       "      <td>150000</td>\n",
       "      <td>167</td>\n",
       "      <td>37</td>\n",
       "      <td>6</td>\n",
       "      <td>26826</td>\n",
       "    </tr>\n",
       "    <tr>\n",
       "      <th>7</th>\n",
       "      <td>2</td>\n",
       "      <td>1997</td>\n",
       "      <td>manual</td>\n",
       "      <td>136</td>\n",
       "      <td>150000</td>\n",
       "      <td>75</td>\n",
       "      <td>20</td>\n",
       "      <td>6</td>\n",
       "      <td>13353</td>\n",
       "    </tr>\n",
       "  </tbody>\n",
       "</table>\n",
       "</div>"
      ],
      "text/plain": [
       "   vehicleType  yearOfRegistration    gearbox  powerPS  kilometer  model  \\\n",
       "1            7                2005     manual      163     150000    239   \n",
       "3            5                2006     manual       86      60000    118   \n",
       "4            7                2008  automatic      185     150000    239   \n",
       "5            3                1995     manual       90     150000    167   \n",
       "7            2                1997     manual      136     150000     75   \n",
       "\n",
       "   brand  fuelType  postalCode  \n",
       "1     38         1       88045  \n",
       "3     30         6       34537  \n",
       "4     38         1       55270  \n",
       "5     37         6       26826  \n",
       "7     20         6       13353  "
      ]
     },
     "execution_count": 60,
     "metadata": {},
     "output_type": "execute_result"
    }
   ],
   "source": [
    "pd.options.mode.chained_assignment = None  # supress warnings as assignment without copy is intended\n",
    "\n",
    "X['vehicleType'] = LabelEncoder().fit_transform(cars['vehicleType'])\n",
    "X['model'] = LabelEncoder().fit_transform(cars['model'])\n",
    "X['brand'] = LabelEncoder().fit_transform(cars['brand'])\n",
    "X['fuelType'] = LabelEncoder().fit_transform(cars['fuelType'])\n",
    "\n",
    "X.head()"
   ]
  },
  {
   "cell_type": "code",
   "execution_count": 61,
   "id": "0e5ef756",
   "metadata": {},
   "outputs": [],
   "source": [
    "y = cars['price']"
   ]
  },
  {
   "cell_type": "code",
   "execution_count": 62,
   "id": "db36878a",
   "metadata": {},
   "outputs": [
    {
     "data": {
      "text/plain": [
       "175000      1\n",
       "23700       1\n",
       "8666        1\n",
       "4889        1\n",
       "19290       1\n",
       "         ... \n",
       "1200      377\n",
       "2500      393\n",
       "500       424\n",
       "0         444\n",
       "1500      469\n",
       "Name: price, Length: 2155, dtype: int64"
      ]
     },
     "execution_count": 62,
     "metadata": {},
     "output_type": "execute_result"
    }
   ],
   "source": [
    "y.value_counts().sort_values()"
   ]
  },
  {
   "cell_type": "markdown",
   "id": "85867ac7",
   "metadata": {},
   "source": [
    "# Split Data into Train and Test \n",
    "\n",
    "We will use an **80-200 train-test split** to train our model and then test the model for it's efficiency. Further we will randomize it as well to disperse any unintended order of data in the source. "
   ]
  },
  {
   "cell_type": "code",
   "execution_count": 63,
   "id": "adc5a09d",
   "metadata": {},
   "outputs": [],
   "source": [
    "X_train, X_test, y_train, y_test = train_test_split(X, y, test_size=0.2, random_state=42)"
   ]
  },
  {
   "cell_type": "code",
   "execution_count": 64,
   "id": "42504b39",
   "metadata": {},
   "outputs": [
    {
     "name": "stdout",
     "output_type": "stream",
     "text": [
      "<class 'pandas.core.frame.DataFrame'>\n",
      "Int64Index: 28085 entries, 39504 to 22551\n",
      "Data columns (total 9 columns):\n",
      " #   Column              Non-Null Count  Dtype \n",
      "---  ------              --------------  ----- \n",
      " 0   vehicleType         28085 non-null  int64 \n",
      " 1   yearOfRegistration  28085 non-null  int64 \n",
      " 2   gearbox             28085 non-null  object\n",
      " 3   powerPS             28085 non-null  int64 \n",
      " 4   kilometer           28085 non-null  int64 \n",
      " 5   model               28085 non-null  int64 \n",
      " 6   brand               28085 non-null  int64 \n",
      " 7   fuelType            28085 non-null  int64 \n",
      " 8   postalCode          28085 non-null  int64 \n",
      "dtypes: int64(8), object(1)\n",
      "memory usage: 2.1+ MB\n"
     ]
    }
   ],
   "source": [
    "X_train.info()"
   ]
  },
  {
   "cell_type": "markdown",
   "id": "c4e9a8a2",
   "metadata": {},
   "source": [
    "# Modeling\n",
    "\n",
    "We will now employ different models for supervised learning and measure their efficacy before picking one of them."
   ]
  },
  {
   "cell_type": "code",
   "execution_count": 65,
   "id": "76c27f2a",
   "metadata": {},
   "outputs": [],
   "source": [
    "# ['vehicleType', 'model', 'brand', 'fuelType']\n",
    "col_transformer = make_column_transformer((OneHotEncoder(drop = 'if_binary'), ['gearbox']), \n",
    "                        remainder='passthrough')"
   ]
  },
  {
   "cell_type": "code",
   "execution_count": 66,
   "id": "a1d33f0d",
   "metadata": {},
   "outputs": [],
   "source": [
    "# a function that takes the best estimator and computes feature importance and displays them\n",
    "\n",
    "def compute_importance (best_est, X_test, y_test, repeats, num_cols=5):\n",
    "    imp = permutation_importance(best_est, X_test, y_test, n_repeats=repeats, random_state=0)\n",
    "    \n",
    "    # Print feature importances\n",
    "    print('Feature Importances')\n",
    "    print('-------------------')\n",
    "    # print the importance means\n",
    "    for i in imp.importances_mean.argsort()[::-1]:\n",
    "            print(f\"{X_test.columns[i]:<8} \"\n",
    "               f\"{imp.importances_mean[i]:.3f}\"\n",
    "               f\" +/- {imp.importances_std[i]:.3f}\")\n",
    "    \n",
    "    # print estimator score and MSE\n",
    "    print(' ')\n",
    "    print(f'Estimator Score:', best_est.score(X_test, y_test))\n",
    "    mse = mean_squared_error(y_test, best_est.predict(X_test))\n",
    "    print(f'Prediction Error (MSE)', mse)\n",
    "    \n",
    "    # also display it visually\n",
    "    feature_importances = pd.Series(imp.importances_mean, index=X_test.columns).sort_values(ascending=False)\n",
    "    feature_importances = feature_importances.iloc[:num_cols]\n",
    "    \n",
    "    fig, ax = plt.subplots()\n",
    "    feature_importances.plot.bar()\n",
    "    \n",
    "    ax.set_title(\"Importance of Features in Determining Used Car Sale Price\")\n",
    "    ax.set_ylabel(\"Importance Mean\")\n",
    "    ax.set_xlabel(\"Used Car Features\")\n",
    "    fig.tight_layout()"
   ]
  },
  {
   "cell_type": "markdown",
   "id": "0a648648",
   "metadata": {},
   "source": [
    "## Linear Regression with Grid Search on Ploynomial Features"
   ]
  },
  {
   "cell_type": "code",
   "execution_count": 67,
   "id": "1b9a0a1a",
   "metadata": {},
   "outputs": [
    {
     "data": {
      "text/html": [
       "<style>#sk-container-id-2 {color: black;}#sk-container-id-2 pre{padding: 0;}#sk-container-id-2 div.sk-toggleable {background-color: white;}#sk-container-id-2 label.sk-toggleable__label {cursor: pointer;display: block;width: 100%;margin-bottom: 0;padding: 0.3em;box-sizing: border-box;text-align: center;}#sk-container-id-2 label.sk-toggleable__label-arrow:before {content: \"▸\";float: left;margin-right: 0.25em;color: #696969;}#sk-container-id-2 label.sk-toggleable__label-arrow:hover:before {color: black;}#sk-container-id-2 div.sk-estimator:hover label.sk-toggleable__label-arrow:before {color: black;}#sk-container-id-2 div.sk-toggleable__content {max-height: 0;max-width: 0;overflow: hidden;text-align: left;background-color: #f0f8ff;}#sk-container-id-2 div.sk-toggleable__content pre {margin: 0.2em;color: black;border-radius: 0.25em;background-color: #f0f8ff;}#sk-container-id-2 input.sk-toggleable__control:checked~div.sk-toggleable__content {max-height: 200px;max-width: 100%;overflow: auto;}#sk-container-id-2 input.sk-toggleable__control:checked~label.sk-toggleable__label-arrow:before {content: \"▾\";}#sk-container-id-2 div.sk-estimator input.sk-toggleable__control:checked~label.sk-toggleable__label {background-color: #d4ebff;}#sk-container-id-2 div.sk-label input.sk-toggleable__control:checked~label.sk-toggleable__label {background-color: #d4ebff;}#sk-container-id-2 input.sk-hidden--visually {border: 0;clip: rect(1px 1px 1px 1px);clip: rect(1px, 1px, 1px, 1px);height: 1px;margin: -1px;overflow: hidden;padding: 0;position: absolute;width: 1px;}#sk-container-id-2 div.sk-estimator {font-family: monospace;background-color: #f0f8ff;border: 1px dotted black;border-radius: 0.25em;box-sizing: border-box;margin-bottom: 0.5em;}#sk-container-id-2 div.sk-estimator:hover {background-color: #d4ebff;}#sk-container-id-2 div.sk-parallel-item::after {content: \"\";width: 100%;border-bottom: 1px solid gray;flex-grow: 1;}#sk-container-id-2 div.sk-label:hover label.sk-toggleable__label {background-color: #d4ebff;}#sk-container-id-2 div.sk-serial::before {content: \"\";position: absolute;border-left: 1px solid gray;box-sizing: border-box;top: 0;bottom: 0;left: 50%;z-index: 0;}#sk-container-id-2 div.sk-serial {display: flex;flex-direction: column;align-items: center;background-color: white;padding-right: 0.2em;padding-left: 0.2em;position: relative;}#sk-container-id-2 div.sk-item {position: relative;z-index: 1;}#sk-container-id-2 div.sk-parallel {display: flex;align-items: stretch;justify-content: center;background-color: white;position: relative;}#sk-container-id-2 div.sk-item::before, #sk-container-id-2 div.sk-parallel-item::before {content: \"\";position: absolute;border-left: 1px solid gray;box-sizing: border-box;top: 0;bottom: 0;left: 50%;z-index: -1;}#sk-container-id-2 div.sk-parallel-item {display: flex;flex-direction: column;z-index: 1;position: relative;background-color: white;}#sk-container-id-2 div.sk-parallel-item:first-child::after {align-self: flex-end;width: 50%;}#sk-container-id-2 div.sk-parallel-item:last-child::after {align-self: flex-start;width: 50%;}#sk-container-id-2 div.sk-parallel-item:only-child::after {width: 0;}#sk-container-id-2 div.sk-dashed-wrapped {border: 1px dashed gray;margin: 0 0.4em 0.5em 0.4em;box-sizing: border-box;padding-bottom: 0.4em;background-color: white;}#sk-container-id-2 div.sk-label label {font-family: monospace;font-weight: bold;display: inline-block;line-height: 1.2em;}#sk-container-id-2 div.sk-label-container {text-align: center;}#sk-container-id-2 div.sk-container {/* jupyter's `normalize.less` sets `[hidden] { display: none; }` but bootstrap.min.css set `[hidden] { display: none !important; }` so we also need the `!important` here to be able to override the default hidden behavior on the sphinx rendered scikit-learn.org. See: https://github.com/scikit-learn/scikit-learn/issues/21755 */display: inline-block !important;position: relative;}#sk-container-id-2 div.sk-text-repr-fallback {display: none;}</style><div id=\"sk-container-id-2\" class=\"sk-top-container\"><div class=\"sk-text-repr-fallback\"><pre>GridSearchCV(estimator=Pipeline(steps=[(&#x27;transformer&#x27;,\n",
       "                                        ColumnTransformer(remainder=&#x27;passthrough&#x27;,\n",
       "                                                          transformers=[(&#x27;onehotencoder&#x27;,\n",
       "                                                                         OneHotEncoder(drop=&#x27;if_binary&#x27;),\n",
       "                                                                         [&#x27;gearbox&#x27;])])),\n",
       "                                       (&#x27;poly&#x27;,\n",
       "                                        PolynomialFeatures(include_bias=False)),\n",
       "                                       (&#x27;linreg&#x27;, LinearRegression())]),\n",
       "             param_grid={&#x27;poly__degree&#x27;: [1, 2, 3, 4]})</pre><b>In a Jupyter environment, please rerun this cell to show the HTML representation or trust the notebook. <br />On GitHub, the HTML representation is unable to render, please try loading this page with nbviewer.org.</b></div><div class=\"sk-container\" hidden><div class=\"sk-item sk-dashed-wrapped\"><div class=\"sk-label-container\"><div class=\"sk-label sk-toggleable\"><input class=\"sk-toggleable__control sk-hidden--visually\" id=\"sk-estimator-id-10\" type=\"checkbox\" ><label for=\"sk-estimator-id-10\" class=\"sk-toggleable__label sk-toggleable__label-arrow\">GridSearchCV</label><div class=\"sk-toggleable__content\"><pre>GridSearchCV(estimator=Pipeline(steps=[(&#x27;transformer&#x27;,\n",
       "                                        ColumnTransformer(remainder=&#x27;passthrough&#x27;,\n",
       "                                                          transformers=[(&#x27;onehotencoder&#x27;,\n",
       "                                                                         OneHotEncoder(drop=&#x27;if_binary&#x27;),\n",
       "                                                                         [&#x27;gearbox&#x27;])])),\n",
       "                                       (&#x27;poly&#x27;,\n",
       "                                        PolynomialFeatures(include_bias=False)),\n",
       "                                       (&#x27;linreg&#x27;, LinearRegression())]),\n",
       "             param_grid={&#x27;poly__degree&#x27;: [1, 2, 3, 4]})</pre></div></div></div><div class=\"sk-parallel\"><div class=\"sk-parallel-item\"><div class=\"sk-item\"><div class=\"sk-label-container\"><div class=\"sk-label sk-toggleable\"><input class=\"sk-toggleable__control sk-hidden--visually\" id=\"sk-estimator-id-11\" type=\"checkbox\" ><label for=\"sk-estimator-id-11\" class=\"sk-toggleable__label sk-toggleable__label-arrow\">estimator: Pipeline</label><div class=\"sk-toggleable__content\"><pre>Pipeline(steps=[(&#x27;transformer&#x27;,\n",
       "                 ColumnTransformer(remainder=&#x27;passthrough&#x27;,\n",
       "                                   transformers=[(&#x27;onehotencoder&#x27;,\n",
       "                                                  OneHotEncoder(drop=&#x27;if_binary&#x27;),\n",
       "                                                  [&#x27;gearbox&#x27;])])),\n",
       "                (&#x27;poly&#x27;, PolynomialFeatures(include_bias=False)),\n",
       "                (&#x27;linreg&#x27;, LinearRegression())])</pre></div></div></div><div class=\"sk-serial\"><div class=\"sk-item\"><div class=\"sk-serial\"><div class=\"sk-item sk-dashed-wrapped\"><div class=\"sk-label-container\"><div class=\"sk-label sk-toggleable\"><input class=\"sk-toggleable__control sk-hidden--visually\" id=\"sk-estimator-id-12\" type=\"checkbox\" ><label for=\"sk-estimator-id-12\" class=\"sk-toggleable__label sk-toggleable__label-arrow\">transformer: ColumnTransformer</label><div class=\"sk-toggleable__content\"><pre>ColumnTransformer(remainder=&#x27;passthrough&#x27;,\n",
       "                  transformers=[(&#x27;onehotencoder&#x27;,\n",
       "                                 OneHotEncoder(drop=&#x27;if_binary&#x27;),\n",
       "                                 [&#x27;gearbox&#x27;])])</pre></div></div></div><div class=\"sk-parallel\"><div class=\"sk-parallel-item\"><div class=\"sk-item\"><div class=\"sk-label-container\"><div class=\"sk-label sk-toggleable\"><input class=\"sk-toggleable__control sk-hidden--visually\" id=\"sk-estimator-id-13\" type=\"checkbox\" ><label for=\"sk-estimator-id-13\" class=\"sk-toggleable__label sk-toggleable__label-arrow\">onehotencoder</label><div class=\"sk-toggleable__content\"><pre>[&#x27;gearbox&#x27;]</pre></div></div></div><div class=\"sk-serial\"><div class=\"sk-item\"><div class=\"sk-estimator sk-toggleable\"><input class=\"sk-toggleable__control sk-hidden--visually\" id=\"sk-estimator-id-14\" type=\"checkbox\" ><label for=\"sk-estimator-id-14\" class=\"sk-toggleable__label sk-toggleable__label-arrow\">OneHotEncoder</label><div class=\"sk-toggleable__content\"><pre>OneHotEncoder(drop=&#x27;if_binary&#x27;)</pre></div></div></div></div></div></div><div class=\"sk-parallel-item\"><div class=\"sk-item\"><div class=\"sk-label-container\"><div class=\"sk-label sk-toggleable\"><input class=\"sk-toggleable__control sk-hidden--visually\" id=\"sk-estimator-id-15\" type=\"checkbox\" ><label for=\"sk-estimator-id-15\" class=\"sk-toggleable__label sk-toggleable__label-arrow\">remainder</label><div class=\"sk-toggleable__content\"><pre></pre></div></div></div><div class=\"sk-serial\"><div class=\"sk-item\"><div class=\"sk-estimator sk-toggleable\"><input class=\"sk-toggleable__control sk-hidden--visually\" id=\"sk-estimator-id-16\" type=\"checkbox\" ><label for=\"sk-estimator-id-16\" class=\"sk-toggleable__label sk-toggleable__label-arrow\">passthrough</label><div class=\"sk-toggleable__content\"><pre>passthrough</pre></div></div></div></div></div></div></div></div><div class=\"sk-item\"><div class=\"sk-estimator sk-toggleable\"><input class=\"sk-toggleable__control sk-hidden--visually\" id=\"sk-estimator-id-17\" type=\"checkbox\" ><label for=\"sk-estimator-id-17\" class=\"sk-toggleable__label sk-toggleable__label-arrow\">PolynomialFeatures</label><div class=\"sk-toggleable__content\"><pre>PolynomialFeatures(include_bias=False)</pre></div></div></div><div class=\"sk-item\"><div class=\"sk-estimator sk-toggleable\"><input class=\"sk-toggleable__control sk-hidden--visually\" id=\"sk-estimator-id-18\" type=\"checkbox\" ><label for=\"sk-estimator-id-18\" class=\"sk-toggleable__label sk-toggleable__label-arrow\">LinearRegression</label><div class=\"sk-toggleable__content\"><pre>LinearRegression()</pre></div></div></div></div></div></div></div></div></div></div></div></div>"
      ],
      "text/plain": [
       "GridSearchCV(estimator=Pipeline(steps=[('transformer',\n",
       "                                        ColumnTransformer(remainder='passthrough',\n",
       "                                                          transformers=[('onehotencoder',\n",
       "                                                                         OneHotEncoder(drop='if_binary'),\n",
       "                                                                         ['gearbox'])])),\n",
       "                                       ('poly',\n",
       "                                        PolynomialFeatures(include_bias=False)),\n",
       "                                       ('linreg', LinearRegression())]),\n",
       "             param_grid={'poly__degree': [1, 2, 3, 4]})"
      ]
     },
     "execution_count": 67,
     "metadata": {},
     "output_type": "execute_result"
    }
   ],
   "source": [
    "# Linear Regression\n",
    "\n",
    "pipe = Pipeline([('transformer', col_transformer),\n",
    "                    (\"poly\", PolynomialFeatures(include_bias=False)),\n",
    "                    (\"linreg\", LinearRegression())])\n",
    "\n",
    "# Use grid search to find optimal poly degree\n",
    "param_dict = {'poly__degree': [1, 2, 3, 4]}\n",
    "grid_lin = GridSearchCV(estimator=pipe, param_grid=param_dict)\n",
    "grid_lin.fit(X_train, y_train)\n",
    "\n"
   ]
  },
  {
   "cell_type": "markdown",
   "id": "7ddc757f",
   "metadata": {},
   "source": [
    "### Observations\n",
    "\n",
    "Below are the 5 features in their order of impact on the price of the used car using this model."
   ]
  },
  {
   "cell_type": "code",
   "execution_count": 68,
   "id": "463e381f",
   "metadata": {},
   "outputs": [
    {
     "name": "stdout",
     "output_type": "stream",
     "text": [
      "Feature Importances\n",
      "-------------------\n",
      "kilometer 0.483 +/- 0.009\n",
      "fuelType 0.081 +/- 0.003\n",
      "powerPS  0.064 +/- 0.002\n",
      "gearbox  0.056 +/- 0.003\n",
      "vehicleType 0.008 +/- 0.001\n",
      "brand    0.004 +/- 0.001\n",
      "postalCode 0.000 +/- 0.000\n",
      "model    -0.001 +/- 0.001\n",
      "yearOfRegistration -0.026 +/- 0.003\n",
      " \n",
      "Estimator Score: 0.2756885413023865\n",
      "Prediction Error (MSE) 71455644.27700032\n"
     ]
    },
    {
     "data": {
      "image/png": "[encoded data removed]",
      "text/plain": [
       "<Figure size 640x480 with 1 Axes>"
      ]
     },
     "metadata": {},
     "output_type": "display_data"
    }
   ],
   "source": [
    "compute_importance(grid_lin.best_estimator_, X_test, y_test, 30)"
   ]
  },
  {
   "cell_type": "markdown",
   "id": "f4caba49",
   "metadata": {},
   "source": [
    "## Sequential Feature Selection with Grid Search for Optimal number of features"
   ]
  },
  {
   "cell_type": "markdown",
   "id": "c303baf7",
   "metadata": {},
   "source": [
    "### Observations\n",
    "\n",
    "Below are the 5 features in their order of impact on the price of the used car using this model."
   ]
  },
  {
   "cell_type": "code",
   "execution_count": 69,
   "id": "63bd5049",
   "metadata": {},
   "outputs": [
    {
     "name": "stdout",
     "output_type": "stream",
     "text": [
      "Feature Importances\n",
      "-------------------\n",
      "kilometer 0.375 +/- 0.008\n",
      "powerPS  0.064 +/- 0.002\n",
      "gearbox  0.059 +/- 0.003\n",
      "fuelType 0.047 +/- 0.002\n",
      "vehicleType 0.009 +/- 0.001\n",
      "postalCode 0.000 +/- 0.000\n",
      "brand    0.000 +/- 0.000\n",
      "model    0.000 +/- 0.000\n",
      "yearOfRegistration 0.000 +/- 0.000\n",
      " \n",
      "Estimator Score: 0.31824289553630014\n",
      "Prediction Error (MSE) 67257520.99445061\n"
     ]
    },
    {
     "data": {
      "image/png": "[encoded data removed]",
      "text/plain": [
       "<Figure size 640x480 with 1 Axes>"
      ]
     },
     "metadata": {},
     "output_type": "display_data"
    }
   ],
   "source": [
    "selector_pipe = Pipeline([('transformer', col_transformer),\n",
    "                    ('selector', SequentialFeatureSelector(LinearRegression())),\n",
    "                    ('model', LinearRegression())])\n",
    "\n",
    "param_dict = {\"selector__n_features_to_select\":[2,3,4,5]}\n",
    "selector_grid = GridSearchCV(estimator=selector_pipe, param_grid=param_dict)\n",
    "\n",
    "selector_grid.fit(X_train, y_train)\n",
    "\n",
    "best_estimator = selector_grid.best_estimator_\n",
    "compute_importance(best_estimator, X_test, y_test, 30)"
   ]
  },
  {
   "cell_type": "markdown",
   "id": "d09f3f83",
   "metadata": {},
   "source": [
    "## Ridget with Grid Search to choose optimal Alpha"
   ]
  },
  {
   "cell_type": "markdown",
   "id": "bb0e4cab",
   "metadata": {},
   "source": [
    "### Observations\n",
    "\n",
    "Below are the 5 features in their order of impact on the price of the used car using this model."
   ]
  },
  {
   "cell_type": "code",
   "execution_count": 70,
   "id": "4af3e64c",
   "metadata": {},
   "outputs": [
    {
     "name": "stdout",
     "output_type": "stream",
     "text": [
      "Feature Importances\n",
      "-------------------\n",
      "kilometer 0.485 +/- 0.009\n",
      "fuelType 0.084 +/- 0.003\n",
      "powerPS  0.067 +/- 0.002\n",
      "gearbox  0.046 +/- 0.003\n",
      "vehicleType 0.008 +/- 0.001\n",
      "brand    0.005 +/- 0.001\n",
      "postalCode 0.000 +/- 0.000\n",
      "model    -0.001 +/- 0.001\n",
      "yearOfRegistration -0.026 +/- 0.003\n",
      " \n",
      "Estimator Score: 0.2747286023047253\n",
      "Prediction Error (MSE) 71550345.33235548\n"
     ]
    },
    {
     "data": {
      "image/png": "[encoded data removed]",
      "text/plain": [
       "<Figure size 640x480 with 1 Axes>"
      ]
     },
     "metadata": {},
     "output_type": "display_data"
    }
   ],
   "source": [
    "ridge_pipe = Pipeline([('transformer', col_transformer),\n",
    "                    (\"scaler\", StandardScaler()),\n",
    "                    ('Ridge', Ridge())])\n",
    "params_dict = {\"Ridge__alpha\":[1e-10, 0.001, 0.1, 1.0, 10.0, 100.0, 1000.0]}\n",
    "\n",
    "ridge_grid = GridSearchCV(ridge_pipe, param_grid=params_dict)\n",
    "ridge_grid.fit(X_train, y_train)\n",
    "\n",
    "best_ridge = ridge_grid.best_estimator_.named_steps['Ridge']\n",
    "\n",
    "trans_pipe = Pipeline([('transformer', col_transformer), \n",
    "                ('regressor', TransformedTargetRegressor(regressor=best_ridge))])\n",
    "trans_pipe.fit(X_train, y_train)\n",
    "\n",
    "compute_importance(trans_pipe, X_test, y_test, 30)"
   ]
  },
  {
   "cell_type": "markdown",
   "id": "52f8c4d0",
   "metadata": {},
   "source": [
    "## RFE with Lasso Estimator"
   ]
  },
  {
   "cell_type": "markdown",
   "id": "220d3f47",
   "metadata": {},
   "source": [
    "### Observations\n",
    "\n",
    "Below are the 5 features in their order of impact on the price of the used car using this model."
   ]
  },
  {
   "cell_type": "code",
   "execution_count": 71,
   "id": "a92d4894",
   "metadata": {},
   "outputs": [
    {
     "name": "stdout",
     "output_type": "stream",
     "text": [
      "Feature Importances\n",
      "-------------------\n",
      "kilometer 0.483 +/- 0.009\n",
      "fuelType 0.082 +/- 0.003\n",
      "powerPS  0.064 +/- 0.002\n",
      "gearbox  0.056 +/- 0.003\n",
      "vehicleType 0.008 +/- 0.001\n",
      "brand    0.005 +/- 0.001\n",
      "postalCode 0.000 +/- 0.000\n",
      "model    -0.001 +/- 0.001\n",
      "yearOfRegistration -0.026 +/- 0.003\n",
      " \n",
      "Estimator Score: 0.2753508585508019\n",
      "Prediction Error (MSE) 71488957.76153238\n"
     ]
    },
    {
     "data": {
      "image/png": "[encoded data removed]",
      "text/plain": [
       "<Figure size 640x480 with 1 Axes>"
      ]
     },
     "metadata": {},
     "output_type": "display_data"
    }
   ],
   "source": [
    "rfe_pipe = Pipeline([('transformer', col_transformer),\n",
    "                    ('rfe', RFE(estimator=Lasso(), n_features_to_select=8))])\n",
    "\n",
    "param_dict = {\"rfe__n_features_to_select\":[2,3,4,5,6,7,8]}\n",
    "rfe_grid = GridSearchCV(estimator=rfe_pipe, param_grid=param_dict)\n",
    "\n",
    "rfe_grid.fit(X_train, y_train)\n",
    "\n",
    "best_estimator = rfe_grid.best_estimator_\n",
    "compute_importance(best_estimator, X_test, y_test, 30)"
   ]
  },
  {
   "cell_type": "markdown",
   "id": "c11df219",
   "metadata": {},
   "source": [
    "# The Price Estimator \n",
    "\n",
    "Now we will use our best model to build a price estimator which a used car buyer can use to estimate the price of a car in the market that interests him by simply plugging in the features of the car.\n",
    "\n",
    "This model will then be hosted on a website for easy access and use. \n",
    "\n",
    "Below is a trial run."
   ]
  },
  {
   "cell_type": "code",
   "execution_count": 72,
   "id": "1ce76637",
   "metadata": {},
   "outputs": [
    {
     "name": "stdout",
     "output_type": "stream",
     "text": [
      "The estimated price of the vehicle which has run 40000 Kilometers, petrol fueled, power 185, automatic transmission SUV is: 18245.12\n"
     ]
    },
    {
     "name": "stderr",
     "output_type": "stream",
     "text": [
      "/Users/sriram.rao/anaconda3/lib/python3.11/site-packages/sklearn/base.py:464: UserWarning: X does not have valid feature names, but SequentialFeatureSelector was fitted with feature names\n",
      "  warnings.warn(\n"
     ]
    }
   ],
   "source": [
    "# Now let's build a model including only the features that were selected by our best model as impactful on pricing\n",
    "\n",
    "X_train = X[['kilometer', 'fuelType', 'powerPS', 'gearbox', 'vehicleType']]\n",
    "y_train = y\n",
    "\n",
    "X_train['gearbox'] = X_train['gearbox'].map({'manual':0, 'automatic':1})\n",
    "\n",
    "selector_pipe = Pipeline([('selector', SequentialFeatureSelector(LinearRegression())),\n",
    "                    ('model', LinearRegression())])\n",
    "\n",
    "param_dict = {\"selector__n_features_to_select\":[2,3,4]}\n",
    "selector_grid = GridSearchCV(estimator=selector_pipe, param_grid=param_dict)\n",
    "\n",
    "selector_grid.fit(X_train, y_train)\n",
    "\n",
    "# train our best model with the subset of data\n",
    "selector_grid.fit(X_train, y_train)\n",
    "\n",
    "# Predic price for a particular car a customer is interested in \n",
    "kilometer = 40000\n",
    "fuelType = 6 # 6 is the label for petrol\n",
    "powerPS = 185\n",
    "gearbox = 1\n",
    "vehicleType = 7 # 7 is a lable for SUV\n",
    "\n",
    "estimated_price = selector_grid.predict([[kilometer, fuelType, powerPS, gearbox, vehicleType]])\n",
    "\n",
    "print(f'The estimated price of the vehicle which has run {kilometer} Kilometers, petrol fueled, power {powerPS}, automatic transmission SUV is: {round(estimated_price[0], 2)}')"
   ]
  },
  {
   "cell_type": "markdown",
   "id": "33c97d6b",
   "metadata": {},
   "source": [
    "# Conclusion\n",
    "\n",
    "We now a have price estimator tool that uses historical used car price data to provide a used car buy with an estimated price he can safely pay based on the features of the vehicle he has selected.\n",
    "\n",
    "Note that the car's make, and model did not have significant impact on the pricing. This means the buyer is free to select any make and model of their choice without having to worry about paying a premium for it. \n",
    "\n",
    "The tool developed gives the buyer the power to make the car choices without worrying about overpaying!"
   ]
  }
 ],
 "metadata": {
  "kernelspec": {
   "display_name": "Python 3 (ipykernel)",
   "language": "python",
   "name": "python3"
  },
  "language_info": {
   "codemirror_mode": {
    "name": "ipython",
    "version": 3
   },
   "file_extension": ".py",
   "mimetype": "text/x-python",
   "name": "python",
   "nbconvert_exporter": "python",
   "pygments_lexer": "ipython3",
   "version": "3.11.4"
  }
 },
 "nbformat": 4,
 "nbformat_minor": 5
}
